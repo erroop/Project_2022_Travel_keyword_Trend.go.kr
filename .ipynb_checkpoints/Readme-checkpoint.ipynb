{
 "cells": [
  {
   "cell_type": "markdown",
   "id": "c54ba785",
   "metadata": {},
   "source": [
    "## 2022년 국내여행 키워드 트렌드 분석"
   ]
  },
  {
   "cell_type": "markdown",
   "id": "2756b853",
   "metadata": {},
   "source": [
    "### 유행에 민감한 요즘 작년 여행 키워드 트렌드를 분석해보고자 프로젝트를 시작했습니다."
   ]
  },
  {
   "cell_type": "markdown",
   "id": "ec4bd119",
   "metadata": {},
   "source": []
  },
  {
   "cell_type": "markdown",
   "id": "bbf7ceb0",
   "metadata": {},
   "source": [
    "### 데이터 확보"
   ]
  },
  {
   "cell_type": "markdown",
   "id": "f11d3e62",
   "metadata": {},
   "source": [
    "- 국내여행지 언급량 순위 조사 (네이버 블로그 월별 (1월~ 12월) '국내여행' 키워드 언급량 selenium, clawling, text mining)\n",
    "\n",
    "- 월별 언급량 순위 top10 네이버 블로그 키워드 (selenium, clawling, text mining)\n",
    "\n",
    "- 월별 언급량 순위 top10 방문자 수 (한국 관광 데이터 랩)\n",
    "\n",
    "- 월별 언급량 순위 top10 네비게이션 검색량 (한국 관광 데이터 랩)"
   ]
  },
  {
   "cell_type": "markdown",
   "id": "fc258a1d",
   "metadata": {},
   "source": []
  },
  {
   "cell_type": "markdown",
   "id": "55c9146e",
   "metadata": {},
   "source": [
    "## 사용언어"
   ]
  },
  {
   "cell_type": "markdown",
   "id": "993445e7",
   "metadata": {},
   "source": [
    "- python3.9 / anaconda : 딕셔너리 병합과 type hint를 활용하여 데이터 처리에 용이한 함수를 작성하고 필요한 라이브러리를 정리하고 관리 할 수 있는 anaconda 환경 구성"
   ]
  },
  {
   "cell_type": "markdown",
   "id": "fdf60a91",
   "metadata": {},
   "source": []
  },
  {
   "cell_type": "markdown",
   "id": "5b4aaa90",
   "metadata": {},
   "source": [
    "## module"
   ]
  },
  {
   "cell_type": "markdown",
   "id": "b38dee53",
   "metadata": {},
   "source": [
    "- Dash(flask)\n",
    "\n",
    "- pandas\n",
    "\n",
    "- selenium\n",
    "\n",
    "- plotly"
   ]
  },
  {
   "cell_type": "markdown",
   "id": "e5d1f813",
   "metadata": {},
   "source": []
  },
  {
   "cell_type": "markdown",
   "id": "9b7e4ab8",
   "metadata": {},
   "source": []
  },
  {
   "cell_type": "markdown",
   "id": "bbdee1ae",
   "metadata": {},
   "source": []
  }
 ],
 "metadata": {
  "kernelspec": {
   "display_name": "Python 3 (ipykernel)",
   "language": "python",
   "name": "python3"
  },
  "language_info": {
   "codemirror_mode": {
    "name": "ipython",
    "version": 3
   },
   "file_extension": ".py",
   "mimetype": "text/x-python",
   "name": "python",
   "nbconvert_exporter": "python",
   "pygments_lexer": "ipython3",
   "version": "3.9.12"
  }
 },
 "nbformat": 4,
 "nbformat_minor": 5
}
