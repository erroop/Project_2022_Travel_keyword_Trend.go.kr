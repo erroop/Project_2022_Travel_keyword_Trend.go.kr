{
 "cells": [
  {
   "cell_type": "markdown",
   "id": "7074a398",
   "metadata": {},
   "source": [
    "## 2022년 국내여행 키워드 트렌드 분석"
   ]
  },
  {
   "cell_type": "markdown",
   "id": "194bfcff",
   "metadata": {},
   "source": [
    "### 유행에 민감한 요즘 작년 여행 키워드 트렌드를 분석해보고자 프로젝트를 시작했습니다."
   ]
  },
  {
   "cell_type": "markdown",
   "id": "4e49181a",
   "metadata": {},
   "source": []
  },
  {
   "cell_type": "markdown",
   "id": "75c7eb4e",
   "metadata": {},
   "source": [
    "### 데이터 확보"
   ]
  },
  {
   "cell_type": "markdown",
   "id": "e2714146",
   "metadata": {},
   "source": [
    "- 국내여행지 언급량 순위 조사 (네이버 블로그 월별 (1월~ 12월) '국내여행' 키워드 언급량 selenium, clawling, text mining)\n",
    "\n",
    "- 월별 언급량 순위 top10 네이버 블로그 키워드 (selenium, clawling, text mining)\n",
    "\n",
    "- 월별 언급량 순위 top10 방문자 수 (한국 관광 데이터 랩)\n",
    "\n",
    "- 월별 언급량 순위 top10 네비게이션 검색량 (한국 관광 데이터 랩)"
   ]
  },
  {
   "cell_type": "markdown",
   "id": "b2ac8cd3",
   "metadata": {},
   "source": []
  },
  {
   "cell_type": "markdown",
   "id": "b5765ff8",
   "metadata": {},
   "source": [
    "## 사용언어"
   ]
  },
  {
   "cell_type": "markdown",
   "id": "842fc002",
   "metadata": {},
   "source": [
    "- python3.9 / anaconda : 딕셔너리 병합과 type hint를 활용하여 데이터 처리에 용이한 함수를 작성하고 필요한 라이브러리를 정리하고 관리 할 수 있는 anaconda 환경 구성"
   ]
  },
  {
   "cell_type": "markdown",
   "id": "89bbcdda",
   "metadata": {},
   "source": []
  },
  {
   "cell_type": "markdown",
   "id": "a9b53c30",
   "metadata": {},
   "source": [
    "## module"
   ]
  },
  {
   "cell_type": "markdown",
   "id": "cf2c2288",
   "metadata": {},
   "source": [
    "- Dash(flask)\n",
    "\n",
    "- pandas\n",
    "\n",
    "- selenium\n",
    "\n",
    "- plotly"
   ]
  },
  {
   "cell_type": "markdown",
   "id": "cf5a42ec",
   "metadata": {},
   "source": []
  },
  {
   "cell_type": "markdown",
   "id": "725a7ada",
   "metadata": {},
   "source": []
  },
  {
   "cell_type": "markdown",
   "id": "9f9abdb6",
   "metadata": {},
   "source": []
  }
 ],
 "metadata": {
  "kernelspec": {
   "display_name": "Python 3 (ipykernel)",
   "language": "python",
   "name": "python3"
  },
  "language_info": {
   "codemirror_mode": {
    "name": "ipython",
    "version": 3
   },
   "file_extension": ".py",
   "mimetype": "text/x-python",
   "name": "python",
   "nbconvert_exporter": "python",
   "pygments_lexer": "ipython3",
   "version": "3.9.12"
  }
 },
 "nbformat": 4,
 "nbformat_minor": 5
}
