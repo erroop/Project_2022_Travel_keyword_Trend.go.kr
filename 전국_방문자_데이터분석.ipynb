{
 "cells": [
  {
   "cell_type": "code",
   "execution_count": 50,
   "id": "cf8b0d89",
   "metadata": {},
   "outputs": [],
   "source": [
    "import pandas as pd\n",
    "import plotly.express as px"
   ]
  },
  {
   "cell_type": "code",
   "execution_count": null,
   "id": "c7f782aa",
   "metadata": {},
   "outputs": [],
   "source": []
  },
  {
   "cell_type": "code",
   "execution_count": 3,
   "id": "641ed319",
   "metadata": {
    "scrolled": true
   },
   "outputs": [],
   "source": [
    "df = pd.read_csv('./2022_전국_방문자_수.csv')"
   ]
  },
  {
   "cell_type": "code",
   "execution_count": 6,
   "id": "fe3537c5",
   "metadata": {},
   "outputs": [],
   "source": [
    "df.drop('Unnamed: 0', axis =1, inplace = True)"
   ]
  },
  {
   "cell_type": "code",
   "execution_count": 7,
   "id": "c7ddb8d8",
   "metadata": {},
   "outputs": [
    {
     "data": {
      "text/html": [
       "<div>\n",
       "<style scoped>\n",
       "    .dataframe tbody tr th:only-of-type {\n",
       "        vertical-align: middle;\n",
       "    }\n",
       "\n",
       "    .dataframe tbody tr th {\n",
       "        vertical-align: top;\n",
       "    }\n",
       "\n",
       "    .dataframe thead th {\n",
       "        text-align: right;\n",
       "    }\n",
       "</style>\n",
       "<table border=\"1\" class=\"dataframe\">\n",
       "  <thead>\n",
       "    <tr style=\"text-align: right;\">\n",
       "      <th></th>\n",
       "      <th>기초지자체명</th>\n",
       "      <th>기초지자체 방문자 수</th>\n",
       "      <th>기초지자체 방문자 비율</th>\n",
       "      <th>월</th>\n",
       "    </tr>\n",
       "  </thead>\n",
       "  <tbody>\n",
       "    <tr>\n",
       "      <th>0</th>\n",
       "      <td>강릉시</td>\n",
       "      <td>2976083.0</td>\n",
       "      <td>14.4</td>\n",
       "      <td>1월</td>\n",
       "    </tr>\n",
       "    <tr>\n",
       "      <th>1</th>\n",
       "      <td>고성군</td>\n",
       "      <td>943992.0</td>\n",
       "      <td>4.6</td>\n",
       "      <td>1월</td>\n",
       "    </tr>\n",
       "    <tr>\n",
       "      <th>2</th>\n",
       "      <td>동해시</td>\n",
       "      <td>925393.0</td>\n",
       "      <td>4.5</td>\n",
       "      <td>1월</td>\n",
       "    </tr>\n",
       "    <tr>\n",
       "      <th>3</th>\n",
       "      <td>삼척시</td>\n",
       "      <td>863188.0</td>\n",
       "      <td>4.2</td>\n",
       "      <td>1월</td>\n",
       "    </tr>\n",
       "    <tr>\n",
       "      <th>4</th>\n",
       "      <td>속초시</td>\n",
       "      <td>1994819.0</td>\n",
       "      <td>9.6</td>\n",
       "      <td>1월</td>\n",
       "    </tr>\n",
       "    <tr>\n",
       "      <th>...</th>\n",
       "      <td>...</td>\n",
       "      <td>...</td>\n",
       "      <td>...</td>\n",
       "      <td>...</td>\n",
       "    </tr>\n",
       "    <tr>\n",
       "      <th>2995</th>\n",
       "      <td>장흥군</td>\n",
       "      <td>375379.0</td>\n",
       "      <td>2.2</td>\n",
       "      <td>12월</td>\n",
       "    </tr>\n",
       "    <tr>\n",
       "      <th>2996</th>\n",
       "      <td>진도군</td>\n",
       "      <td>370669.0</td>\n",
       "      <td>2.1</td>\n",
       "      <td>12월</td>\n",
       "    </tr>\n",
       "    <tr>\n",
       "      <th>2997</th>\n",
       "      <td>함평군</td>\n",
       "      <td>408970.0</td>\n",
       "      <td>2.3</td>\n",
       "      <td>12월</td>\n",
       "    </tr>\n",
       "    <tr>\n",
       "      <th>2998</th>\n",
       "      <td>해남군</td>\n",
       "      <td>636277.0</td>\n",
       "      <td>3.6</td>\n",
       "      <td>12월</td>\n",
       "    </tr>\n",
       "    <tr>\n",
       "      <th>2999</th>\n",
       "      <td>화순군</td>\n",
       "      <td>803233.0</td>\n",
       "      <td>4.6</td>\n",
       "      <td>12월</td>\n",
       "    </tr>\n",
       "  </tbody>\n",
       "</table>\n",
       "<p>3000 rows × 4 columns</p>\n",
       "</div>"
      ],
      "text/plain": [
       "     기초지자체명  기초지자체 방문자 수  기초지자체 방문자 비율    월\n",
       "0       강릉시    2976083.0          14.4   1월\n",
       "1       고성군     943992.0           4.6   1월\n",
       "2       동해시     925393.0           4.5   1월\n",
       "3       삼척시     863188.0           4.2   1월\n",
       "4       속초시    1994819.0           9.6   1월\n",
       "...     ...          ...           ...  ...\n",
       "2995    장흥군     375379.0           2.2  12월\n",
       "2996    진도군     370669.0           2.1  12월\n",
       "2997    함평군     408970.0           2.3  12월\n",
       "2998    해남군     636277.0           3.6  12월\n",
       "2999    화순군     803233.0           4.6  12월\n",
       "\n",
       "[3000 rows x 4 columns]"
      ]
     },
     "execution_count": 7,
     "metadata": {},
     "output_type": "execute_result"
    }
   ],
   "source": [
    "df"
   ]
  },
  {
   "cell_type": "markdown",
   "id": "01cd9280",
   "metadata": {},
   "source": [
    "## 2022년 1월 방문자수 top 20"
   ]
  },
  {
   "cell_type": "code",
   "execution_count": null,
   "id": "c8f4a46c",
   "metadata": {},
   "outputs": [],
   "source": []
  },
  {
   "cell_type": "code",
   "execution_count": 15,
   "id": "4e5c4330",
   "metadata": {},
   "outputs": [],
   "source": [
    "df_1 = df[df['월'] == '1월'].sort_values('기초지자체 방문자 수', ascending = False, ignore_index = True)"
   ]
  },
  {
   "cell_type": "code",
   "execution_count": 84,
   "id": "320ef91e",
   "metadata": {},
   "outputs": [],
   "source": [
    "df_1.loc[2, '기초지자체명'] = '서울시 중구'"
   ]
  },
  {
   "cell_type": "code",
   "execution_count": 13,
   "id": "286d10f1",
   "metadata": {
    "scrolled": false
   },
   "outputs": [
    {
     "data": {
      "text/html": [
       "<div>\n",
       "<style scoped>\n",
       "    .dataframe tbody tr th:only-of-type {\n",
       "        vertical-align: middle;\n",
       "    }\n",
       "\n",
       "    .dataframe tbody tr th {\n",
       "        vertical-align: top;\n",
       "    }\n",
       "\n",
       "    .dataframe thead th {\n",
       "        text-align: right;\n",
       "    }\n",
       "</style>\n",
       "<table border=\"1\" class=\"dataframe\">\n",
       "  <thead>\n",
       "    <tr style=\"text-align: right;\">\n",
       "      <th></th>\n",
       "      <th>기초지자체명</th>\n",
       "      <th>기초지자체 방문자 수</th>\n",
       "      <th>기초지자체 방문자 비율</th>\n",
       "      <th>월</th>\n",
       "    </tr>\n",
       "  </thead>\n",
       "  <tbody>\n",
       "    <tr>\n",
       "      <th>0</th>\n",
       "      <td>강남구</td>\n",
       "      <td>16563951.0</td>\n",
       "      <td>11.6</td>\n",
       "      <td>1월</td>\n",
       "    </tr>\n",
       "    <tr>\n",
       "      <th>1</th>\n",
       "      <td>서초구</td>\n",
       "      <td>11467780.0</td>\n",
       "      <td>8.0</td>\n",
       "      <td>1월</td>\n",
       "    </tr>\n",
       "    <tr>\n",
       "      <th>2</th>\n",
       "      <td>중구</td>\n",
       "      <td>9478629.0</td>\n",
       "      <td>6.6</td>\n",
       "      <td>1월</td>\n",
       "    </tr>\n",
       "    <tr>\n",
       "      <th>3</th>\n",
       "      <td>종로구</td>\n",
       "      <td>8900897.0</td>\n",
       "      <td>6.2</td>\n",
       "      <td>1월</td>\n",
       "    </tr>\n",
       "    <tr>\n",
       "      <th>4</th>\n",
       "      <td>송파구</td>\n",
       "      <td>8704873.0</td>\n",
       "      <td>6.1</td>\n",
       "      <td>1월</td>\n",
       "    </tr>\n",
       "    <tr>\n",
       "      <th>5</th>\n",
       "      <td>마포구</td>\n",
       "      <td>8083624.0</td>\n",
       "      <td>5.6</td>\n",
       "      <td>1월</td>\n",
       "    </tr>\n",
       "    <tr>\n",
       "      <th>6</th>\n",
       "      <td>영등포구</td>\n",
       "      <td>7917188.0</td>\n",
       "      <td>5.5</td>\n",
       "      <td>1월</td>\n",
       "    </tr>\n",
       "    <tr>\n",
       "      <th>7</th>\n",
       "      <td>화성시</td>\n",
       "      <td>7307793.0</td>\n",
       "      <td>5.3</td>\n",
       "      <td>1월</td>\n",
       "    </tr>\n",
       "    <tr>\n",
       "      <th>8</th>\n",
       "      <td>성남시 분당구</td>\n",
       "      <td>6599185.0</td>\n",
       "      <td>4.8</td>\n",
       "      <td>1월</td>\n",
       "    </tr>\n",
       "    <tr>\n",
       "      <th>9</th>\n",
       "      <td>용산구</td>\n",
       "      <td>6536793.0</td>\n",
       "      <td>4.6</td>\n",
       "      <td>1월</td>\n",
       "    </tr>\n",
       "    <tr>\n",
       "      <th>10</th>\n",
       "      <td>강서구</td>\n",
       "      <td>5987861.0</td>\n",
       "      <td>4.2</td>\n",
       "      <td>1월</td>\n",
       "    </tr>\n",
       "    <tr>\n",
       "      <th>11</th>\n",
       "      <td>서대문구</td>\n",
       "      <td>5831560.0</td>\n",
       "      <td>4.1</td>\n",
       "      <td>1월</td>\n",
       "    </tr>\n",
       "    <tr>\n",
       "      <th>12</th>\n",
       "      <td>제주시</td>\n",
       "      <td>5590239.0</td>\n",
       "      <td>56.0</td>\n",
       "      <td>1월</td>\n",
       "    </tr>\n",
       "    <tr>\n",
       "      <th>13</th>\n",
       "      <td>부천시</td>\n",
       "      <td>5486961.0</td>\n",
       "      <td>4.0</td>\n",
       "      <td>1월</td>\n",
       "    </tr>\n",
       "    <tr>\n",
       "      <th>14</th>\n",
       "      <td>부산진구</td>\n",
       "      <td>5430164.0</td>\n",
       "      <td>12.6</td>\n",
       "      <td>1월</td>\n",
       "    </tr>\n",
       "    <tr>\n",
       "      <th>15</th>\n",
       "      <td>해운대구</td>\n",
       "      <td>5386438.0</td>\n",
       "      <td>12.5</td>\n",
       "      <td>1월</td>\n",
       "    </tr>\n",
       "    <tr>\n",
       "      <th>16</th>\n",
       "      <td>남양주시</td>\n",
       "      <td>5334936.0</td>\n",
       "      <td>3.9</td>\n",
       "      <td>1월</td>\n",
       "    </tr>\n",
       "    <tr>\n",
       "      <th>17</th>\n",
       "      <td>고양시 덕양구</td>\n",
       "      <td>4897463.0</td>\n",
       "      <td>3.5</td>\n",
       "      <td>1월</td>\n",
       "    </tr>\n",
       "    <tr>\n",
       "      <th>18</th>\n",
       "      <td>광진구</td>\n",
       "      <td>4894047.0</td>\n",
       "      <td>3.4</td>\n",
       "      <td>1월</td>\n",
       "    </tr>\n",
       "    <tr>\n",
       "      <th>19</th>\n",
       "      <td>고양시 일산동구</td>\n",
       "      <td>4793964.0</td>\n",
       "      <td>3.5</td>\n",
       "      <td>1월</td>\n",
       "    </tr>\n",
       "  </tbody>\n",
       "</table>\n",
       "</div>"
      ],
      "text/plain": [
       "      기초지자체명  기초지자체 방문자 수  기초지자체 방문자 비율   월\n",
       "0        강남구   16563951.0          11.6  1월\n",
       "1        서초구   11467780.0           8.0  1월\n",
       "2         중구    9478629.0           6.6  1월\n",
       "3        종로구    8900897.0           6.2  1월\n",
       "4        송파구    8704873.0           6.1  1월\n",
       "5        마포구    8083624.0           5.6  1월\n",
       "6       영등포구    7917188.0           5.5  1월\n",
       "7        화성시    7307793.0           5.3  1월\n",
       "8    성남시 분당구    6599185.0           4.8  1월\n",
       "9        용산구    6536793.0           4.6  1월\n",
       "10       강서구    5987861.0           4.2  1월\n",
       "11      서대문구    5831560.0           4.1  1월\n",
       "12       제주시    5590239.0          56.0  1월\n",
       "13       부천시    5486961.0           4.0  1월\n",
       "14      부산진구    5430164.0          12.6  1월\n",
       "15      해운대구    5386438.0          12.5  1월\n",
       "16      남양주시    5334936.0           3.9  1월\n",
       "17   고양시 덕양구    4897463.0           3.5  1월\n",
       "18       광진구    4894047.0           3.4  1월\n",
       "19  고양시 일산동구    4793964.0           3.5  1월"
      ]
     },
     "execution_count": 13,
     "metadata": {},
     "output_type": "execute_result"
    }
   ],
   "source": [
    "df_1.loc[:19]"
   ]
  },
  {
   "cell_type": "code",
   "execution_count": null,
   "id": "bb06e0be",
   "metadata": {},
   "outputs": [],
   "source": []
  },
  {
   "cell_type": "markdown",
   "id": "e5a4dbb7",
   "metadata": {},
   "source": [
    "## 2022년 2월 방문자수 top 20"
   ]
  },
  {
   "cell_type": "code",
   "execution_count": 16,
   "id": "dcc0737f",
   "metadata": {},
   "outputs": [],
   "source": [
    "df_2 = df[df['월'] == '2월'].sort_values('기초지자체 방문자 수', ascending = False, ignore_index = True)"
   ]
  },
  {
   "cell_type": "code",
   "execution_count": 83,
   "id": "31b3d24a",
   "metadata": {},
   "outputs": [],
   "source": [
    "df_2.loc[2, '기초지자체명'] = '서울시 중구'"
   ]
  },
  {
   "cell_type": "code",
   "execution_count": 18,
   "id": "18c030d2",
   "metadata": {
    "scrolled": true
   },
   "outputs": [
    {
     "data": {
      "text/html": [
       "<div>\n",
       "<style scoped>\n",
       "    .dataframe tbody tr th:only-of-type {\n",
       "        vertical-align: middle;\n",
       "    }\n",
       "\n",
       "    .dataframe tbody tr th {\n",
       "        vertical-align: top;\n",
       "    }\n",
       "\n",
       "    .dataframe thead th {\n",
       "        text-align: right;\n",
       "    }\n",
       "</style>\n",
       "<table border=\"1\" class=\"dataframe\">\n",
       "  <thead>\n",
       "    <tr style=\"text-align: right;\">\n",
       "      <th></th>\n",
       "      <th>기초지자체명</th>\n",
       "      <th>기초지자체 방문자 수</th>\n",
       "      <th>기초지자체 방문자 비율</th>\n",
       "      <th>월</th>\n",
       "    </tr>\n",
       "  </thead>\n",
       "  <tbody>\n",
       "    <tr>\n",
       "      <th>0</th>\n",
       "      <td>강남구</td>\n",
       "      <td>13858769.0</td>\n",
       "      <td>11.4</td>\n",
       "      <td>2월</td>\n",
       "    </tr>\n",
       "    <tr>\n",
       "      <th>1</th>\n",
       "      <td>서초구</td>\n",
       "      <td>9459723.0</td>\n",
       "      <td>7.8</td>\n",
       "      <td>2월</td>\n",
       "    </tr>\n",
       "    <tr>\n",
       "      <th>2</th>\n",
       "      <td>중구</td>\n",
       "      <td>7909950.0</td>\n",
       "      <td>6.5</td>\n",
       "      <td>2월</td>\n",
       "    </tr>\n",
       "    <tr>\n",
       "      <th>3</th>\n",
       "      <td>종로구</td>\n",
       "      <td>7645538.0</td>\n",
       "      <td>6.3</td>\n",
       "      <td>2월</td>\n",
       "    </tr>\n",
       "    <tr>\n",
       "      <th>4</th>\n",
       "      <td>송파구</td>\n",
       "      <td>7295382.0</td>\n",
       "      <td>6.0</td>\n",
       "      <td>2월</td>\n",
       "    </tr>\n",
       "    <tr>\n",
       "      <th>5</th>\n",
       "      <td>마포구</td>\n",
       "      <td>6917811.0</td>\n",
       "      <td>5.7</td>\n",
       "      <td>2월</td>\n",
       "    </tr>\n",
       "    <tr>\n",
       "      <th>6</th>\n",
       "      <td>영등포구</td>\n",
       "      <td>6670421.0</td>\n",
       "      <td>5.5</td>\n",
       "      <td>2월</td>\n",
       "    </tr>\n",
       "    <tr>\n",
       "      <th>7</th>\n",
       "      <td>화성시</td>\n",
       "      <td>6502895.0</td>\n",
       "      <td>5.5</td>\n",
       "      <td>2월</td>\n",
       "    </tr>\n",
       "    <tr>\n",
       "      <th>8</th>\n",
       "      <td>성남시 분당구</td>\n",
       "      <td>5515230.0</td>\n",
       "      <td>4.6</td>\n",
       "      <td>2월</td>\n",
       "    </tr>\n",
       "    <tr>\n",
       "      <th>9</th>\n",
       "      <td>용산구</td>\n",
       "      <td>5427635.0</td>\n",
       "      <td>4.5</td>\n",
       "      <td>2월</td>\n",
       "    </tr>\n",
       "    <tr>\n",
       "      <th>10</th>\n",
       "      <td>강서구</td>\n",
       "      <td>5171955.0</td>\n",
       "      <td>4.2</td>\n",
       "      <td>2월</td>\n",
       "    </tr>\n",
       "    <tr>\n",
       "      <th>11</th>\n",
       "      <td>서대문구</td>\n",
       "      <td>5022405.0</td>\n",
       "      <td>4.1</td>\n",
       "      <td>2월</td>\n",
       "    </tr>\n",
       "    <tr>\n",
       "      <th>12</th>\n",
       "      <td>제주시</td>\n",
       "      <td>4831029.0</td>\n",
       "      <td>56.5</td>\n",
       "      <td>2월</td>\n",
       "    </tr>\n",
       "    <tr>\n",
       "      <th>13</th>\n",
       "      <td>부천시</td>\n",
       "      <td>4661835.0</td>\n",
       "      <td>3.9</td>\n",
       "      <td>2월</td>\n",
       "    </tr>\n",
       "    <tr>\n",
       "      <th>14</th>\n",
       "      <td>남양주시</td>\n",
       "      <td>4644961.0</td>\n",
       "      <td>3.9</td>\n",
       "      <td>2월</td>\n",
       "    </tr>\n",
       "    <tr>\n",
       "      <th>15</th>\n",
       "      <td>해운대구</td>\n",
       "      <td>4566514.0</td>\n",
       "      <td>12.4</td>\n",
       "      <td>2월</td>\n",
       "    </tr>\n",
       "    <tr>\n",
       "      <th>16</th>\n",
       "      <td>부산진구</td>\n",
       "      <td>4517657.0</td>\n",
       "      <td>12.3</td>\n",
       "      <td>2월</td>\n",
       "    </tr>\n",
       "    <tr>\n",
       "      <th>17</th>\n",
       "      <td>광진구</td>\n",
       "      <td>4209662.0</td>\n",
       "      <td>3.5</td>\n",
       "      <td>2월</td>\n",
       "    </tr>\n",
       "    <tr>\n",
       "      <th>18</th>\n",
       "      <td>고양시 덕양구</td>\n",
       "      <td>4201405.0</td>\n",
       "      <td>3.5</td>\n",
       "      <td>2월</td>\n",
       "    </tr>\n",
       "    <tr>\n",
       "      <th>19</th>\n",
       "      <td>고양시 일산동구</td>\n",
       "      <td>4066452.0</td>\n",
       "      <td>3.4</td>\n",
       "      <td>2월</td>\n",
       "    </tr>\n",
       "  </tbody>\n",
       "</table>\n",
       "</div>"
      ],
      "text/plain": [
       "      기초지자체명  기초지자체 방문자 수  기초지자체 방문자 비율   월\n",
       "0        강남구   13858769.0          11.4  2월\n",
       "1        서초구    9459723.0           7.8  2월\n",
       "2         중구    7909950.0           6.5  2월\n",
       "3        종로구    7645538.0           6.3  2월\n",
       "4        송파구    7295382.0           6.0  2월\n",
       "5        마포구    6917811.0           5.7  2월\n",
       "6       영등포구    6670421.0           5.5  2월\n",
       "7        화성시    6502895.0           5.5  2월\n",
       "8    성남시 분당구    5515230.0           4.6  2월\n",
       "9        용산구    5427635.0           4.5  2월\n",
       "10       강서구    5171955.0           4.2  2월\n",
       "11      서대문구    5022405.0           4.1  2월\n",
       "12       제주시    4831029.0          56.5  2월\n",
       "13       부천시    4661835.0           3.9  2월\n",
       "14      남양주시    4644961.0           3.9  2월\n",
       "15      해운대구    4566514.0          12.4  2월\n",
       "16      부산진구    4517657.0          12.3  2월\n",
       "17       광진구    4209662.0           3.5  2월\n",
       "18   고양시 덕양구    4201405.0           3.5  2월\n",
       "19  고양시 일산동구    4066452.0           3.4  2월"
      ]
     },
     "execution_count": 18,
     "metadata": {},
     "output_type": "execute_result"
    }
   ],
   "source": [
    "df_2.loc[:19]"
   ]
  },
  {
   "cell_type": "code",
   "execution_count": null,
   "id": "6e4b6ebf",
   "metadata": {},
   "outputs": [],
   "source": []
  },
  {
   "cell_type": "markdown",
   "id": "a7b714e1",
   "metadata": {},
   "source": [
    "## 2022년 3월 방문자수 top 20"
   ]
  },
  {
   "cell_type": "code",
   "execution_count": 21,
   "id": "59d6a3ea",
   "metadata": {},
   "outputs": [],
   "source": [
    "df_3 = df[df['월'] == '3월'].sort_values('기초지자체 방문자 수', ascending = False, ignore_index = True)"
   ]
  },
  {
   "cell_type": "code",
   "execution_count": 81,
   "id": "1f8a78a7",
   "metadata": {},
   "outputs": [],
   "source": [
    "df_3.loc[2, '기초지자체명'] = '서울시 중구'"
   ]
  },
  {
   "cell_type": "code",
   "execution_count": 82,
   "id": "8e9dac94",
   "metadata": {
    "scrolled": true
   },
   "outputs": [
    {
     "data": {
      "text/html": [
       "<div>\n",
       "<style scoped>\n",
       "    .dataframe tbody tr th:only-of-type {\n",
       "        vertical-align: middle;\n",
       "    }\n",
       "\n",
       "    .dataframe tbody tr th {\n",
       "        vertical-align: top;\n",
       "    }\n",
       "\n",
       "    .dataframe thead th {\n",
       "        text-align: right;\n",
       "    }\n",
       "</style>\n",
       "<table border=\"1\" class=\"dataframe\">\n",
       "  <thead>\n",
       "    <tr style=\"text-align: right;\">\n",
       "      <th></th>\n",
       "      <th>기초지자체명</th>\n",
       "      <th>기초지자체 방문자 수</th>\n",
       "      <th>기초지자체 방문자 비율</th>\n",
       "      <th>월</th>\n",
       "    </tr>\n",
       "  </thead>\n",
       "  <tbody>\n",
       "    <tr>\n",
       "      <th>0</th>\n",
       "      <td>강남구</td>\n",
       "      <td>16613106.0</td>\n",
       "      <td>11.3</td>\n",
       "      <td>3월</td>\n",
       "    </tr>\n",
       "    <tr>\n",
       "      <th>1</th>\n",
       "      <td>서초구</td>\n",
       "      <td>11322351.0</td>\n",
       "      <td>7.7</td>\n",
       "      <td>3월</td>\n",
       "    </tr>\n",
       "    <tr>\n",
       "      <th>2</th>\n",
       "      <td>서울시 중구</td>\n",
       "      <td>9642667.0</td>\n",
       "      <td>6.6</td>\n",
       "      <td>3월</td>\n",
       "    </tr>\n",
       "    <tr>\n",
       "      <th>3</th>\n",
       "      <td>종로구</td>\n",
       "      <td>9406407.0</td>\n",
       "      <td>6.4</td>\n",
       "      <td>3월</td>\n",
       "    </tr>\n",
       "    <tr>\n",
       "      <th>4</th>\n",
       "      <td>송파구</td>\n",
       "      <td>8604295.0</td>\n",
       "      <td>5.8</td>\n",
       "      <td>3월</td>\n",
       "    </tr>\n",
       "    <tr>\n",
       "      <th>5</th>\n",
       "      <td>마포구</td>\n",
       "      <td>8395535.0</td>\n",
       "      <td>5.7</td>\n",
       "      <td>3월</td>\n",
       "    </tr>\n",
       "    <tr>\n",
       "      <th>6</th>\n",
       "      <td>영등포구</td>\n",
       "      <td>8083239.0</td>\n",
       "      <td>5.5</td>\n",
       "      <td>3월</td>\n",
       "    </tr>\n",
       "    <tr>\n",
       "      <th>7</th>\n",
       "      <td>화성시</td>\n",
       "      <td>7790811.0</td>\n",
       "      <td>5.5</td>\n",
       "      <td>3월</td>\n",
       "    </tr>\n",
       "    <tr>\n",
       "      <th>8</th>\n",
       "      <td>성남시 분당구</td>\n",
       "      <td>6690484.0</td>\n",
       "      <td>4.7</td>\n",
       "      <td>3월</td>\n",
       "    </tr>\n",
       "    <tr>\n",
       "      <th>9</th>\n",
       "      <td>용산구</td>\n",
       "      <td>6423381.0</td>\n",
       "      <td>4.4</td>\n",
       "      <td>3월</td>\n",
       "    </tr>\n",
       "    <tr>\n",
       "      <th>10</th>\n",
       "      <td>서대문구</td>\n",
       "      <td>6157185.0</td>\n",
       "      <td>4.2</td>\n",
       "      <td>3월</td>\n",
       "    </tr>\n",
       "    <tr>\n",
       "      <th>11</th>\n",
       "      <td>강서구</td>\n",
       "      <td>5845795.0</td>\n",
       "      <td>4.0</td>\n",
       "      <td>3월</td>\n",
       "    </tr>\n",
       "    <tr>\n",
       "      <th>12</th>\n",
       "      <td>남양주시</td>\n",
       "      <td>5539831.0</td>\n",
       "      <td>3.9</td>\n",
       "      <td>3월</td>\n",
       "    </tr>\n",
       "    <tr>\n",
       "      <th>13</th>\n",
       "      <td>부천시</td>\n",
       "      <td>5414232.0</td>\n",
       "      <td>3.8</td>\n",
       "      <td>3월</td>\n",
       "    </tr>\n",
       "    <tr>\n",
       "      <th>14</th>\n",
       "      <td>부산진구</td>\n",
       "      <td>5339286.0</td>\n",
       "      <td>12.7</td>\n",
       "      <td>3월</td>\n",
       "    </tr>\n",
       "    <tr>\n",
       "      <th>15</th>\n",
       "      <td>광진구</td>\n",
       "      <td>5180474.0</td>\n",
       "      <td>3.5</td>\n",
       "      <td>3월</td>\n",
       "    </tr>\n",
       "    <tr>\n",
       "      <th>16</th>\n",
       "      <td>고양시 덕양구</td>\n",
       "      <td>4899628.0</td>\n",
       "      <td>3.5</td>\n",
       "      <td>3월</td>\n",
       "    </tr>\n",
       "    <tr>\n",
       "      <th>17</th>\n",
       "      <td>고양시 일산동구</td>\n",
       "      <td>4869848.0</td>\n",
       "      <td>3.4</td>\n",
       "      <td>3월</td>\n",
       "    </tr>\n",
       "    <tr>\n",
       "      <th>18</th>\n",
       "      <td>수원시 팔달구</td>\n",
       "      <td>4774774.0</td>\n",
       "      <td>3.4</td>\n",
       "      <td>3월</td>\n",
       "    </tr>\n",
       "    <tr>\n",
       "      <th>19</th>\n",
       "      <td>용인시 기흥구</td>\n",
       "      <td>4750230.0</td>\n",
       "      <td>3.3</td>\n",
       "      <td>3월</td>\n",
       "    </tr>\n",
       "  </tbody>\n",
       "</table>\n",
       "</div>"
      ],
      "text/plain": [
       "      기초지자체명  기초지자체 방문자 수  기초지자체 방문자 비율   월\n",
       "0        강남구   16613106.0          11.3  3월\n",
       "1        서초구   11322351.0           7.7  3월\n",
       "2     서울시 중구    9642667.0           6.6  3월\n",
       "3        종로구    9406407.0           6.4  3월\n",
       "4        송파구    8604295.0           5.8  3월\n",
       "5        마포구    8395535.0           5.7  3월\n",
       "6       영등포구    8083239.0           5.5  3월\n",
       "7        화성시    7790811.0           5.5  3월\n",
       "8    성남시 분당구    6690484.0           4.7  3월\n",
       "9        용산구    6423381.0           4.4  3월\n",
       "10      서대문구    6157185.0           4.2  3월\n",
       "11       강서구    5845795.0           4.0  3월\n",
       "12      남양주시    5539831.0           3.9  3월\n",
       "13       부천시    5414232.0           3.8  3월\n",
       "14      부산진구    5339286.0          12.7  3월\n",
       "15       광진구    5180474.0           3.5  3월\n",
       "16   고양시 덕양구    4899628.0           3.5  3월\n",
       "17  고양시 일산동구    4869848.0           3.4  3월\n",
       "18   수원시 팔달구    4774774.0           3.4  3월\n",
       "19   용인시 기흥구    4750230.0           3.3  3월"
      ]
     },
     "execution_count": 82,
     "metadata": {},
     "output_type": "execute_result"
    }
   ],
   "source": [
    "df_3.loc[:19]"
   ]
  },
  {
   "cell_type": "code",
   "execution_count": null,
   "id": "aaf010bf",
   "metadata": {},
   "outputs": [],
   "source": []
  },
  {
   "cell_type": "markdown",
   "id": "5c279fb9",
   "metadata": {},
   "source": [
    "## 2022년 4월 방문자수 top 20"
   ]
  },
  {
   "cell_type": "code",
   "execution_count": 24,
   "id": "436333bf",
   "metadata": {},
   "outputs": [],
   "source": [
    "df_4 = df[df['월'] == '4월'].sort_values('기초지자체 방문자 수', ascending = False, ignore_index = True)"
   ]
  },
  {
   "cell_type": "code",
   "execution_count": 80,
   "id": "926d5a0c",
   "metadata": {},
   "outputs": [],
   "source": [
    "df_4.loc[2, '기초지자체명'] = '서울시 중구'"
   ]
  },
  {
   "cell_type": "code",
   "execution_count": 25,
   "id": "222b9208",
   "metadata": {
    "scrolled": true
   },
   "outputs": [
    {
     "data": {
      "text/html": [
       "<div>\n",
       "<style scoped>\n",
       "    .dataframe tbody tr th:only-of-type {\n",
       "        vertical-align: middle;\n",
       "    }\n",
       "\n",
       "    .dataframe tbody tr th {\n",
       "        vertical-align: top;\n",
       "    }\n",
       "\n",
       "    .dataframe thead th {\n",
       "        text-align: right;\n",
       "    }\n",
       "</style>\n",
       "<table border=\"1\" class=\"dataframe\">\n",
       "  <thead>\n",
       "    <tr style=\"text-align: right;\">\n",
       "      <th></th>\n",
       "      <th>기초지자체명</th>\n",
       "      <th>기초지자체 방문자 수</th>\n",
       "      <th>기초지자체 방문자 비율</th>\n",
       "      <th>월</th>\n",
       "    </tr>\n",
       "  </thead>\n",
       "  <tbody>\n",
       "    <tr>\n",
       "      <th>0</th>\n",
       "      <td>강남구</td>\n",
       "      <td>18168079.0</td>\n",
       "      <td>11.0</td>\n",
       "      <td>4월</td>\n",
       "    </tr>\n",
       "    <tr>\n",
       "      <th>1</th>\n",
       "      <td>서초구</td>\n",
       "      <td>13120167.0</td>\n",
       "      <td>7.9</td>\n",
       "      <td>4월</td>\n",
       "    </tr>\n",
       "    <tr>\n",
       "      <th>2</th>\n",
       "      <td>중구</td>\n",
       "      <td>11422239.0</td>\n",
       "      <td>6.9</td>\n",
       "      <td>4월</td>\n",
       "    </tr>\n",
       "    <tr>\n",
       "      <th>3</th>\n",
       "      <td>종로구</td>\n",
       "      <td>11045109.0</td>\n",
       "      <td>6.7</td>\n",
       "      <td>4월</td>\n",
       "    </tr>\n",
       "    <tr>\n",
       "      <th>4</th>\n",
       "      <td>송파구</td>\n",
       "      <td>10470021.0</td>\n",
       "      <td>6.3</td>\n",
       "      <td>4월</td>\n",
       "    </tr>\n",
       "    <tr>\n",
       "      <th>5</th>\n",
       "      <td>영등포구</td>\n",
       "      <td>9867056.0</td>\n",
       "      <td>6.0</td>\n",
       "      <td>4월</td>\n",
       "    </tr>\n",
       "    <tr>\n",
       "      <th>6</th>\n",
       "      <td>마포구</td>\n",
       "      <td>9643042.0</td>\n",
       "      <td>5.8</td>\n",
       "      <td>4월</td>\n",
       "    </tr>\n",
       "    <tr>\n",
       "      <th>7</th>\n",
       "      <td>화성시</td>\n",
       "      <td>8464954.0</td>\n",
       "      <td>5.3</td>\n",
       "      <td>4월</td>\n",
       "    </tr>\n",
       "    <tr>\n",
       "      <th>8</th>\n",
       "      <td>용산구</td>\n",
       "      <td>7784712.0</td>\n",
       "      <td>4.7</td>\n",
       "      <td>4월</td>\n",
       "    </tr>\n",
       "    <tr>\n",
       "      <th>9</th>\n",
       "      <td>성남시 분당구</td>\n",
       "      <td>7529348.0</td>\n",
       "      <td>4.7</td>\n",
       "      <td>4월</td>\n",
       "    </tr>\n",
       "    <tr>\n",
       "      <th>10</th>\n",
       "      <td>서대문구</td>\n",
       "      <td>6489419.0</td>\n",
       "      <td>3.9</td>\n",
       "      <td>4월</td>\n",
       "    </tr>\n",
       "    <tr>\n",
       "      <th>11</th>\n",
       "      <td>부천시</td>\n",
       "      <td>6394687.0</td>\n",
       "      <td>4.0</td>\n",
       "      <td>4월</td>\n",
       "    </tr>\n",
       "    <tr>\n",
       "      <th>12</th>\n",
       "      <td>남양주시</td>\n",
       "      <td>6392992.0</td>\n",
       "      <td>4.0</td>\n",
       "      <td>4월</td>\n",
       "    </tr>\n",
       "    <tr>\n",
       "      <th>13</th>\n",
       "      <td>강서구</td>\n",
       "      <td>6340264.0</td>\n",
       "      <td>3.8</td>\n",
       "      <td>4월</td>\n",
       "    </tr>\n",
       "    <tr>\n",
       "      <th>14</th>\n",
       "      <td>광진구</td>\n",
       "      <td>5854023.0</td>\n",
       "      <td>3.5</td>\n",
       "      <td>4월</td>\n",
       "    </tr>\n",
       "    <tr>\n",
       "      <th>15</th>\n",
       "      <td>부산진구</td>\n",
       "      <td>5550631.0</td>\n",
       "      <td>12.5</td>\n",
       "      <td>4월</td>\n",
       "    </tr>\n",
       "    <tr>\n",
       "      <th>16</th>\n",
       "      <td>고양시 덕양구</td>\n",
       "      <td>5494055.0</td>\n",
       "      <td>3.5</td>\n",
       "      <td>4월</td>\n",
       "    </tr>\n",
       "    <tr>\n",
       "      <th>17</th>\n",
       "      <td>수원시 팔달구</td>\n",
       "      <td>5418612.0</td>\n",
       "      <td>3.4</td>\n",
       "      <td>4월</td>\n",
       "    </tr>\n",
       "    <tr>\n",
       "      <th>18</th>\n",
       "      <td>고양시 일산동구</td>\n",
       "      <td>5315334.0</td>\n",
       "      <td>3.3</td>\n",
       "      <td>4월</td>\n",
       "    </tr>\n",
       "    <tr>\n",
       "      <th>19</th>\n",
       "      <td>제주시</td>\n",
       "      <td>5215911.0</td>\n",
       "      <td>55.1</td>\n",
       "      <td>4월</td>\n",
       "    </tr>\n",
       "  </tbody>\n",
       "</table>\n",
       "</div>"
      ],
      "text/plain": [
       "      기초지자체명  기초지자체 방문자 수  기초지자체 방문자 비율   월\n",
       "0        강남구   18168079.0          11.0  4월\n",
       "1        서초구   13120167.0           7.9  4월\n",
       "2         중구   11422239.0           6.9  4월\n",
       "3        종로구   11045109.0           6.7  4월\n",
       "4        송파구   10470021.0           6.3  4월\n",
       "5       영등포구    9867056.0           6.0  4월\n",
       "6        마포구    9643042.0           5.8  4월\n",
       "7        화성시    8464954.0           5.3  4월\n",
       "8        용산구    7784712.0           4.7  4월\n",
       "9    성남시 분당구    7529348.0           4.7  4월\n",
       "10      서대문구    6489419.0           3.9  4월\n",
       "11       부천시    6394687.0           4.0  4월\n",
       "12      남양주시    6392992.0           4.0  4월\n",
       "13       강서구    6340264.0           3.8  4월\n",
       "14       광진구    5854023.0           3.5  4월\n",
       "15      부산진구    5550631.0          12.5  4월\n",
       "16   고양시 덕양구    5494055.0           3.5  4월\n",
       "17   수원시 팔달구    5418612.0           3.4  4월\n",
       "18  고양시 일산동구    5315334.0           3.3  4월\n",
       "19       제주시    5215911.0          55.1  4월"
      ]
     },
     "execution_count": 25,
     "metadata": {},
     "output_type": "execute_result"
    }
   ],
   "source": [
    "df_4.loc[:19]"
   ]
  },
  {
   "cell_type": "code",
   "execution_count": null,
   "id": "b465da5f",
   "metadata": {},
   "outputs": [],
   "source": []
  },
  {
   "cell_type": "markdown",
   "id": "7f21b0aa",
   "metadata": {},
   "source": [
    "## 2022년 5월 방문자수 top 20"
   ]
  },
  {
   "cell_type": "code",
   "execution_count": 27,
   "id": "116f3ddc",
   "metadata": {},
   "outputs": [],
   "source": [
    "df_5 = df[df['월'] == '5월'].sort_values('기초지자체 방문자 수', ascending = False, ignore_index = True)"
   ]
  },
  {
   "cell_type": "code",
   "execution_count": 79,
   "id": "e1ae5f5e",
   "metadata": {},
   "outputs": [],
   "source": [
    "df_5.loc[3, '기초지자체명'] = '서울시 중구'"
   ]
  },
  {
   "cell_type": "code",
   "execution_count": 28,
   "id": "ff3797dc",
   "metadata": {
    "scrolled": true
   },
   "outputs": [
    {
     "data": {
      "text/html": [
       "<div>\n",
       "<style scoped>\n",
       "    .dataframe tbody tr th:only-of-type {\n",
       "        vertical-align: middle;\n",
       "    }\n",
       "\n",
       "    .dataframe tbody tr th {\n",
       "        vertical-align: top;\n",
       "    }\n",
       "\n",
       "    .dataframe thead th {\n",
       "        text-align: right;\n",
       "    }\n",
       "</style>\n",
       "<table border=\"1\" class=\"dataframe\">\n",
       "  <thead>\n",
       "    <tr style=\"text-align: right;\">\n",
       "      <th></th>\n",
       "      <th>기초지자체명</th>\n",
       "      <th>기초지자체 방문자 수</th>\n",
       "      <th>기초지자체 방문자 비율</th>\n",
       "      <th>월</th>\n",
       "    </tr>\n",
       "  </thead>\n",
       "  <tbody>\n",
       "    <tr>\n",
       "      <th>0</th>\n",
       "      <td>강남구</td>\n",
       "      <td>18999806.0</td>\n",
       "      <td>10.8</td>\n",
       "      <td>5월</td>\n",
       "    </tr>\n",
       "    <tr>\n",
       "      <th>1</th>\n",
       "      <td>서초구</td>\n",
       "      <td>13968622.0</td>\n",
       "      <td>7.9</td>\n",
       "      <td>5월</td>\n",
       "    </tr>\n",
       "    <tr>\n",
       "      <th>2</th>\n",
       "      <td>종로구</td>\n",
       "      <td>12472556.0</td>\n",
       "      <td>7.1</td>\n",
       "      <td>5월</td>\n",
       "    </tr>\n",
       "    <tr>\n",
       "      <th>3</th>\n",
       "      <td>중구</td>\n",
       "      <td>12459891.0</td>\n",
       "      <td>7.1</td>\n",
       "      <td>5월</td>\n",
       "    </tr>\n",
       "    <tr>\n",
       "      <th>4</th>\n",
       "      <td>송파구</td>\n",
       "      <td>10643072.0</td>\n",
       "      <td>6.1</td>\n",
       "      <td>5월</td>\n",
       "    </tr>\n",
       "    <tr>\n",
       "      <th>5</th>\n",
       "      <td>마포구</td>\n",
       "      <td>10508608.0</td>\n",
       "      <td>6.0</td>\n",
       "      <td>5월</td>\n",
       "    </tr>\n",
       "    <tr>\n",
       "      <th>6</th>\n",
       "      <td>영등포구</td>\n",
       "      <td>9893681.0</td>\n",
       "      <td>5.6</td>\n",
       "      <td>5월</td>\n",
       "    </tr>\n",
       "    <tr>\n",
       "      <th>7</th>\n",
       "      <td>용산구</td>\n",
       "      <td>9139989.0</td>\n",
       "      <td>5.2</td>\n",
       "      <td>5월</td>\n",
       "    </tr>\n",
       "    <tr>\n",
       "      <th>8</th>\n",
       "      <td>화성시</td>\n",
       "      <td>8864544.0</td>\n",
       "      <td>5.3</td>\n",
       "      <td>5월</td>\n",
       "    </tr>\n",
       "    <tr>\n",
       "      <th>9</th>\n",
       "      <td>성남시 분당구</td>\n",
       "      <td>7717970.0</td>\n",
       "      <td>4.6</td>\n",
       "      <td>5월</td>\n",
       "    </tr>\n",
       "    <tr>\n",
       "      <th>10</th>\n",
       "      <td>서대문구</td>\n",
       "      <td>7050215.0</td>\n",
       "      <td>4.0</td>\n",
       "      <td>5월</td>\n",
       "    </tr>\n",
       "    <tr>\n",
       "      <th>11</th>\n",
       "      <td>강서구</td>\n",
       "      <td>6903977.0</td>\n",
       "      <td>3.9</td>\n",
       "      <td>5월</td>\n",
       "    </tr>\n",
       "    <tr>\n",
       "      <th>12</th>\n",
       "      <td>남양주시</td>\n",
       "      <td>6722119.0</td>\n",
       "      <td>4.0</td>\n",
       "      <td>5월</td>\n",
       "    </tr>\n",
       "    <tr>\n",
       "      <th>13</th>\n",
       "      <td>부천시</td>\n",
       "      <td>6346858.0</td>\n",
       "      <td>3.8</td>\n",
       "      <td>5월</td>\n",
       "    </tr>\n",
       "    <tr>\n",
       "      <th>14</th>\n",
       "      <td>광진구</td>\n",
       "      <td>6281197.0</td>\n",
       "      <td>3.6</td>\n",
       "      <td>5월</td>\n",
       "    </tr>\n",
       "    <tr>\n",
       "      <th>15</th>\n",
       "      <td>부산진구</td>\n",
       "      <td>6256838.0</td>\n",
       "      <td>12.6</td>\n",
       "      <td>5월</td>\n",
       "    </tr>\n",
       "    <tr>\n",
       "      <th>16</th>\n",
       "      <td>고양시 덕양구</td>\n",
       "      <td>5935904.0</td>\n",
       "      <td>3.5</td>\n",
       "      <td>5월</td>\n",
       "    </tr>\n",
       "    <tr>\n",
       "      <th>17</th>\n",
       "      <td>해운대구</td>\n",
       "      <td>5905037.0</td>\n",
       "      <td>11.9</td>\n",
       "      <td>5월</td>\n",
       "    </tr>\n",
       "    <tr>\n",
       "      <th>18</th>\n",
       "      <td>수원시 팔달구</td>\n",
       "      <td>5757530.0</td>\n",
       "      <td>3.4</td>\n",
       "      <td>5월</td>\n",
       "    </tr>\n",
       "    <tr>\n",
       "      <th>19</th>\n",
       "      <td>고양시 일산동구</td>\n",
       "      <td>5584699.0</td>\n",
       "      <td>3.3</td>\n",
       "      <td>5월</td>\n",
       "    </tr>\n",
       "  </tbody>\n",
       "</table>\n",
       "</div>"
      ],
      "text/plain": [
       "      기초지자체명  기초지자체 방문자 수  기초지자체 방문자 비율   월\n",
       "0        강남구   18999806.0          10.8  5월\n",
       "1        서초구   13968622.0           7.9  5월\n",
       "2        종로구   12472556.0           7.1  5월\n",
       "3         중구   12459891.0           7.1  5월\n",
       "4        송파구   10643072.0           6.1  5월\n",
       "5        마포구   10508608.0           6.0  5월\n",
       "6       영등포구    9893681.0           5.6  5월\n",
       "7        용산구    9139989.0           5.2  5월\n",
       "8        화성시    8864544.0           5.3  5월\n",
       "9    성남시 분당구    7717970.0           4.6  5월\n",
       "10      서대문구    7050215.0           4.0  5월\n",
       "11       강서구    6903977.0           3.9  5월\n",
       "12      남양주시    6722119.0           4.0  5월\n",
       "13       부천시    6346858.0           3.8  5월\n",
       "14       광진구    6281197.0           3.6  5월\n",
       "15      부산진구    6256838.0          12.6  5월\n",
       "16   고양시 덕양구    5935904.0           3.5  5월\n",
       "17      해운대구    5905037.0          11.9  5월\n",
       "18   수원시 팔달구    5757530.0           3.4  5월\n",
       "19  고양시 일산동구    5584699.0           3.3  5월"
      ]
     },
     "execution_count": 28,
     "metadata": {},
     "output_type": "execute_result"
    }
   ],
   "source": [
    "df_5.loc[:19]"
   ]
  },
  {
   "cell_type": "code",
   "execution_count": null,
   "id": "9839d39b",
   "metadata": {},
   "outputs": [],
   "source": []
  },
  {
   "cell_type": "markdown",
   "id": "d4f9fc83",
   "metadata": {},
   "source": [
    "## 2022년 6월 방문자수 top 20"
   ]
  },
  {
   "cell_type": "code",
   "execution_count": 30,
   "id": "2c2cb450",
   "metadata": {},
   "outputs": [],
   "source": [
    "df_6 = df[df['월'] == '6월'].sort_values('기초지자체 방문자 수', ascending = False, ignore_index = True)"
   ]
  },
  {
   "cell_type": "code",
   "execution_count": 77,
   "id": "c76607e8",
   "metadata": {},
   "outputs": [],
   "source": [
    "df_6.loc[2, '기초지자체명'] = '서울시 중구'"
   ]
  },
  {
   "cell_type": "code",
   "execution_count": 78,
   "id": "bb930c9e",
   "metadata": {
    "scrolled": true
   },
   "outputs": [
    {
     "data": {
      "text/html": [
       "<div>\n",
       "<style scoped>\n",
       "    .dataframe tbody tr th:only-of-type {\n",
       "        vertical-align: middle;\n",
       "    }\n",
       "\n",
       "    .dataframe tbody tr th {\n",
       "        vertical-align: top;\n",
       "    }\n",
       "\n",
       "    .dataframe thead th {\n",
       "        text-align: right;\n",
       "    }\n",
       "</style>\n",
       "<table border=\"1\" class=\"dataframe\">\n",
       "  <thead>\n",
       "    <tr style=\"text-align: right;\">\n",
       "      <th></th>\n",
       "      <th>기초지자체명</th>\n",
       "      <th>기초지자체 방문자 수</th>\n",
       "      <th>기초지자체 방문자 비율</th>\n",
       "      <th>월</th>\n",
       "    </tr>\n",
       "  </thead>\n",
       "  <tbody>\n",
       "    <tr>\n",
       "      <th>0</th>\n",
       "      <td>강남구</td>\n",
       "      <td>17961193.0</td>\n",
       "      <td>11.2</td>\n",
       "      <td>6월</td>\n",
       "    </tr>\n",
       "    <tr>\n",
       "      <th>1</th>\n",
       "      <td>서초구</td>\n",
       "      <td>12923638.0</td>\n",
       "      <td>8.0</td>\n",
       "      <td>6월</td>\n",
       "    </tr>\n",
       "    <tr>\n",
       "      <th>2</th>\n",
       "      <td>서울시 중구</td>\n",
       "      <td>11393919.0</td>\n",
       "      <td>7.1</td>\n",
       "      <td>6월</td>\n",
       "    </tr>\n",
       "    <tr>\n",
       "      <th>3</th>\n",
       "      <td>종로구</td>\n",
       "      <td>11163302.0</td>\n",
       "      <td>6.9</td>\n",
       "      <td>6월</td>\n",
       "    </tr>\n",
       "    <tr>\n",
       "      <th>4</th>\n",
       "      <td>송파구</td>\n",
       "      <td>9770259.0</td>\n",
       "      <td>6.1</td>\n",
       "      <td>6월</td>\n",
       "    </tr>\n",
       "    <tr>\n",
       "      <th>5</th>\n",
       "      <td>마포구</td>\n",
       "      <td>9762871.0</td>\n",
       "      <td>6.1</td>\n",
       "      <td>6월</td>\n",
       "    </tr>\n",
       "    <tr>\n",
       "      <th>6</th>\n",
       "      <td>영등포구</td>\n",
       "      <td>8894885.0</td>\n",
       "      <td>5.5</td>\n",
       "      <td>6월</td>\n",
       "    </tr>\n",
       "    <tr>\n",
       "      <th>7</th>\n",
       "      <td>용산구</td>\n",
       "      <td>8462003.0</td>\n",
       "      <td>5.3</td>\n",
       "      <td>6월</td>\n",
       "    </tr>\n",
       "    <tr>\n",
       "      <th>8</th>\n",
       "      <td>화성시</td>\n",
       "      <td>8073032.0</td>\n",
       "      <td>5.3</td>\n",
       "      <td>6월</td>\n",
       "    </tr>\n",
       "    <tr>\n",
       "      <th>9</th>\n",
       "      <td>성남시 분당구</td>\n",
       "      <td>7119822.0</td>\n",
       "      <td>4.7</td>\n",
       "      <td>6월</td>\n",
       "    </tr>\n",
       "    <tr>\n",
       "      <th>10</th>\n",
       "      <td>서대문구</td>\n",
       "      <td>6497742.0</td>\n",
       "      <td>4.0</td>\n",
       "      <td>6월</td>\n",
       "    </tr>\n",
       "    <tr>\n",
       "      <th>11</th>\n",
       "      <td>강서구</td>\n",
       "      <td>6452450.0</td>\n",
       "      <td>4.0</td>\n",
       "      <td>6월</td>\n",
       "    </tr>\n",
       "    <tr>\n",
       "      <th>12</th>\n",
       "      <td>남양주시</td>\n",
       "      <td>6070026.0</td>\n",
       "      <td>4.0</td>\n",
       "      <td>6월</td>\n",
       "    </tr>\n",
       "    <tr>\n",
       "      <th>13</th>\n",
       "      <td>해운대구</td>\n",
       "      <td>5828859.0</td>\n",
       "      <td>12.8</td>\n",
       "      <td>6월</td>\n",
       "    </tr>\n",
       "    <tr>\n",
       "      <th>14</th>\n",
       "      <td>부천시</td>\n",
       "      <td>5777800.0</td>\n",
       "      <td>3.8</td>\n",
       "      <td>6월</td>\n",
       "    </tr>\n",
       "    <tr>\n",
       "      <th>15</th>\n",
       "      <td>부산진구</td>\n",
       "      <td>5680395.0</td>\n",
       "      <td>12.4</td>\n",
       "      <td>6월</td>\n",
       "    </tr>\n",
       "    <tr>\n",
       "      <th>16</th>\n",
       "      <td>광진구</td>\n",
       "      <td>5549135.0</td>\n",
       "      <td>3.4</td>\n",
       "      <td>6월</td>\n",
       "    </tr>\n",
       "    <tr>\n",
       "      <th>17</th>\n",
       "      <td>제주시</td>\n",
       "      <td>5497719.0</td>\n",
       "      <td>57.8</td>\n",
       "      <td>6월</td>\n",
       "    </tr>\n",
       "    <tr>\n",
       "      <th>18</th>\n",
       "      <td>고양시 덕양구</td>\n",
       "      <td>5296240.0</td>\n",
       "      <td>3.5</td>\n",
       "      <td>6월</td>\n",
       "    </tr>\n",
       "    <tr>\n",
       "      <th>19</th>\n",
       "      <td>수원시 팔달구</td>\n",
       "      <td>5252271.0</td>\n",
       "      <td>3.4</td>\n",
       "      <td>6월</td>\n",
       "    </tr>\n",
       "  </tbody>\n",
       "</table>\n",
       "</div>"
      ],
      "text/plain": [
       "     기초지자체명  기초지자체 방문자 수  기초지자체 방문자 비율   월\n",
       "0       강남구   17961193.0          11.2  6월\n",
       "1       서초구   12923638.0           8.0  6월\n",
       "2    서울시 중구   11393919.0           7.1  6월\n",
       "3       종로구   11163302.0           6.9  6월\n",
       "4       송파구    9770259.0           6.1  6월\n",
       "5       마포구    9762871.0           6.1  6월\n",
       "6      영등포구    8894885.0           5.5  6월\n",
       "7       용산구    8462003.0           5.3  6월\n",
       "8       화성시    8073032.0           5.3  6월\n",
       "9   성남시 분당구    7119822.0           4.7  6월\n",
       "10     서대문구    6497742.0           4.0  6월\n",
       "11      강서구    6452450.0           4.0  6월\n",
       "12     남양주시    6070026.0           4.0  6월\n",
       "13     해운대구    5828859.0          12.8  6월\n",
       "14      부천시    5777800.0           3.8  6월\n",
       "15     부산진구    5680395.0          12.4  6월\n",
       "16      광진구    5549135.0           3.4  6월\n",
       "17      제주시    5497719.0          57.8  6월\n",
       "18  고양시 덕양구    5296240.0           3.5  6월\n",
       "19  수원시 팔달구    5252271.0           3.4  6월"
      ]
     },
     "execution_count": 78,
     "metadata": {},
     "output_type": "execute_result"
    }
   ],
   "source": [
    "df_6.loc[:19]"
   ]
  },
  {
   "cell_type": "code",
   "execution_count": null,
   "id": "9dd7475e",
   "metadata": {},
   "outputs": [],
   "source": []
  },
  {
   "cell_type": "markdown",
   "id": "9e9ca225",
   "metadata": {},
   "source": [
    "## 2022년 7월 방문자수 top 20"
   ]
  },
  {
   "cell_type": "code",
   "execution_count": 33,
   "id": "e36b141a",
   "metadata": {},
   "outputs": [],
   "source": [
    "df_7 = df[df['월'] == '7월'].sort_values('기초지자체 방문자 수', ascending = False, ignore_index = True)"
   ]
  },
  {
   "cell_type": "code",
   "execution_count": 75,
   "id": "0295b4e8",
   "metadata": {},
   "outputs": [],
   "source": [
    "df_7.loc[2, '기초지자체명'] = '서울시 중구'"
   ]
  },
  {
   "cell_type": "code",
   "execution_count": 76,
   "id": "7b0a18a2",
   "metadata": {},
   "outputs": [
    {
     "data": {
      "text/html": [
       "<div>\n",
       "<style scoped>\n",
       "    .dataframe tbody tr th:only-of-type {\n",
       "        vertical-align: middle;\n",
       "    }\n",
       "\n",
       "    .dataframe tbody tr th {\n",
       "        vertical-align: top;\n",
       "    }\n",
       "\n",
       "    .dataframe thead th {\n",
       "        text-align: right;\n",
       "    }\n",
       "</style>\n",
       "<table border=\"1\" class=\"dataframe\">\n",
       "  <thead>\n",
       "    <tr style=\"text-align: right;\">\n",
       "      <th></th>\n",
       "      <th>기초지자체명</th>\n",
       "      <th>기초지자체 방문자 수</th>\n",
       "      <th>기초지자체 방문자 비율</th>\n",
       "      <th>월</th>\n",
       "    </tr>\n",
       "  </thead>\n",
       "  <tbody>\n",
       "    <tr>\n",
       "      <th>0</th>\n",
       "      <td>강남구</td>\n",
       "      <td>19436204.0</td>\n",
       "      <td>11.5</td>\n",
       "      <td>7월</td>\n",
       "    </tr>\n",
       "    <tr>\n",
       "      <th>1</th>\n",
       "      <td>서초구</td>\n",
       "      <td>13667127.0</td>\n",
       "      <td>8.1</td>\n",
       "      <td>7월</td>\n",
       "    </tr>\n",
       "    <tr>\n",
       "      <th>2</th>\n",
       "      <td>서울시 중구</td>\n",
       "      <td>11791221.0</td>\n",
       "      <td>7.0</td>\n",
       "      <td>7월</td>\n",
       "    </tr>\n",
       "    <tr>\n",
       "      <th>3</th>\n",
       "      <td>종로구</td>\n",
       "      <td>11201961.0</td>\n",
       "      <td>6.6</td>\n",
       "      <td>7월</td>\n",
       "    </tr>\n",
       "    <tr>\n",
       "      <th>4</th>\n",
       "      <td>송파구</td>\n",
       "      <td>10508724.0</td>\n",
       "      <td>6.2</td>\n",
       "      <td>7월</td>\n",
       "    </tr>\n",
       "    <tr>\n",
       "      <th>5</th>\n",
       "      <td>마포구</td>\n",
       "      <td>10250381.0</td>\n",
       "      <td>6.1</td>\n",
       "      <td>7월</td>\n",
       "    </tr>\n",
       "    <tr>\n",
       "      <th>6</th>\n",
       "      <td>영등포구</td>\n",
       "      <td>9457776.0</td>\n",
       "      <td>5.6</td>\n",
       "      <td>7월</td>\n",
       "    </tr>\n",
       "    <tr>\n",
       "      <th>7</th>\n",
       "      <td>용산구</td>\n",
       "      <td>8947669.0</td>\n",
       "      <td>5.3</td>\n",
       "      <td>7월</td>\n",
       "    </tr>\n",
       "    <tr>\n",
       "      <th>8</th>\n",
       "      <td>화성시</td>\n",
       "      <td>8434911.0</td>\n",
       "      <td>5.2</td>\n",
       "      <td>7월</td>\n",
       "    </tr>\n",
       "    <tr>\n",
       "      <th>9</th>\n",
       "      <td>성남시 분당구</td>\n",
       "      <td>7587306.0</td>\n",
       "      <td>4.7</td>\n",
       "      <td>7월</td>\n",
       "    </tr>\n",
       "    <tr>\n",
       "      <th>10</th>\n",
       "      <td>제주시</td>\n",
       "      <td>7291538.0</td>\n",
       "      <td>59.8</td>\n",
       "      <td>7월</td>\n",
       "    </tr>\n",
       "    <tr>\n",
       "      <th>11</th>\n",
       "      <td>서대문구</td>\n",
       "      <td>6913534.0</td>\n",
       "      <td>4.1</td>\n",
       "      <td>7월</td>\n",
       "    </tr>\n",
       "    <tr>\n",
       "      <th>12</th>\n",
       "      <td>강서구</td>\n",
       "      <td>6751067.0</td>\n",
       "      <td>4.0</td>\n",
       "      <td>7월</td>\n",
       "    </tr>\n",
       "    <tr>\n",
       "      <th>13</th>\n",
       "      <td>남양주시</td>\n",
       "      <td>6518386.0</td>\n",
       "      <td>4.0</td>\n",
       "      <td>7월</td>\n",
       "    </tr>\n",
       "    <tr>\n",
       "      <th>14</th>\n",
       "      <td>해운대구</td>\n",
       "      <td>6482051.0</td>\n",
       "      <td>13.1</td>\n",
       "      <td>7월</td>\n",
       "    </tr>\n",
       "    <tr>\n",
       "      <th>15</th>\n",
       "      <td>부산진구</td>\n",
       "      <td>6224558.0</td>\n",
       "      <td>12.5</td>\n",
       "      <td>7월</td>\n",
       "    </tr>\n",
       "    <tr>\n",
       "      <th>16</th>\n",
       "      <td>부천시</td>\n",
       "      <td>6105022.0</td>\n",
       "      <td>3.8</td>\n",
       "      <td>7월</td>\n",
       "    </tr>\n",
       "    <tr>\n",
       "      <th>17</th>\n",
       "      <td>광진구</td>\n",
       "      <td>5786224.0</td>\n",
       "      <td>3.4</td>\n",
       "      <td>7월</td>\n",
       "    </tr>\n",
       "    <tr>\n",
       "      <th>18</th>\n",
       "      <td>고양시 덕양구</td>\n",
       "      <td>5660634.0</td>\n",
       "      <td>3.5</td>\n",
       "      <td>7월</td>\n",
       "    </tr>\n",
       "    <tr>\n",
       "      <th>19</th>\n",
       "      <td>중구</td>\n",
       "      <td>5517822.0</td>\n",
       "      <td>16.7</td>\n",
       "      <td>7월</td>\n",
       "    </tr>\n",
       "  </tbody>\n",
       "</table>\n",
       "</div>"
      ],
      "text/plain": [
       "     기초지자체명  기초지자체 방문자 수  기초지자체 방문자 비율   월\n",
       "0       강남구   19436204.0          11.5  7월\n",
       "1       서초구   13667127.0           8.1  7월\n",
       "2    서울시 중구   11791221.0           7.0  7월\n",
       "3       종로구   11201961.0           6.6  7월\n",
       "4       송파구   10508724.0           6.2  7월\n",
       "5       마포구   10250381.0           6.1  7월\n",
       "6      영등포구    9457776.0           5.6  7월\n",
       "7       용산구    8947669.0           5.3  7월\n",
       "8       화성시    8434911.0           5.2  7월\n",
       "9   성남시 분당구    7587306.0           4.7  7월\n",
       "10      제주시    7291538.0          59.8  7월\n",
       "11     서대문구    6913534.0           4.1  7월\n",
       "12      강서구    6751067.0           4.0  7월\n",
       "13     남양주시    6518386.0           4.0  7월\n",
       "14     해운대구    6482051.0          13.1  7월\n",
       "15     부산진구    6224558.0          12.5  7월\n",
       "16      부천시    6105022.0           3.8  7월\n",
       "17      광진구    5786224.0           3.4  7월\n",
       "18  고양시 덕양구    5660634.0           3.5  7월\n",
       "19       중구    5517822.0          16.7  7월"
      ]
     },
     "execution_count": 76,
     "metadata": {},
     "output_type": "execute_result"
    }
   ],
   "source": [
    "df_7.loc[:19]"
   ]
  },
  {
   "cell_type": "code",
   "execution_count": null,
   "id": "40a63681",
   "metadata": {},
   "outputs": [],
   "source": []
  },
  {
   "cell_type": "markdown",
   "id": "420efc14",
   "metadata": {},
   "source": [
    "## 2022년 8월 방문자수 top 20"
   ]
  },
  {
   "cell_type": "code",
   "execution_count": 36,
   "id": "23f184fa",
   "metadata": {},
   "outputs": [],
   "source": [
    "df_8 = df[df['월'] == '8월'].sort_values('기초지자체 방문자 수', ascending = False, ignore_index = True)"
   ]
  },
  {
   "cell_type": "code",
   "execution_count": 73,
   "id": "5742410a",
   "metadata": {},
   "outputs": [],
   "source": [
    "df_8.loc[2, '기초지자체명'] = '서울시 중구'"
   ]
  },
  {
   "cell_type": "code",
   "execution_count": 74,
   "id": "22ed2c37",
   "metadata": {
    "scrolled": false
   },
   "outputs": [
    {
     "data": {
      "text/html": [
       "<div>\n",
       "<style scoped>\n",
       "    .dataframe tbody tr th:only-of-type {\n",
       "        vertical-align: middle;\n",
       "    }\n",
       "\n",
       "    .dataframe tbody tr th {\n",
       "        vertical-align: top;\n",
       "    }\n",
       "\n",
       "    .dataframe thead th {\n",
       "        text-align: right;\n",
       "    }\n",
       "</style>\n",
       "<table border=\"1\" class=\"dataframe\">\n",
       "  <thead>\n",
       "    <tr style=\"text-align: right;\">\n",
       "      <th></th>\n",
       "      <th>기초지자체명</th>\n",
       "      <th>기초지자체 방문자 수</th>\n",
       "      <th>기초지자체 방문자 비율</th>\n",
       "      <th>월</th>\n",
       "    </tr>\n",
       "  </thead>\n",
       "  <tbody>\n",
       "    <tr>\n",
       "      <th>0</th>\n",
       "      <td>강남구</td>\n",
       "      <td>18110175.0</td>\n",
       "      <td>11.2</td>\n",
       "      <td>8월</td>\n",
       "    </tr>\n",
       "    <tr>\n",
       "      <th>1</th>\n",
       "      <td>서초구</td>\n",
       "      <td>12903474.0</td>\n",
       "      <td>7.9</td>\n",
       "      <td>8월</td>\n",
       "    </tr>\n",
       "    <tr>\n",
       "      <th>2</th>\n",
       "      <td>서울시 중구</td>\n",
       "      <td>11289430.0</td>\n",
       "      <td>7.0</td>\n",
       "      <td>8월</td>\n",
       "    </tr>\n",
       "    <tr>\n",
       "      <th>3</th>\n",
       "      <td>종로구</td>\n",
       "      <td>10924300.0</td>\n",
       "      <td>6.7</td>\n",
       "      <td>8월</td>\n",
       "    </tr>\n",
       "    <tr>\n",
       "      <th>4</th>\n",
       "      <td>송파구</td>\n",
       "      <td>10007423.0</td>\n",
       "      <td>6.2</td>\n",
       "      <td>8월</td>\n",
       "    </tr>\n",
       "    <tr>\n",
       "      <th>5</th>\n",
       "      <td>마포구</td>\n",
       "      <td>9835715.0</td>\n",
       "      <td>6.1</td>\n",
       "      <td>8월</td>\n",
       "    </tr>\n",
       "    <tr>\n",
       "      <th>6</th>\n",
       "      <td>영등포구</td>\n",
       "      <td>9088801.0</td>\n",
       "      <td>5.6</td>\n",
       "      <td>8월</td>\n",
       "    </tr>\n",
       "    <tr>\n",
       "      <th>7</th>\n",
       "      <td>용산구</td>\n",
       "      <td>8694726.0</td>\n",
       "      <td>5.4</td>\n",
       "      <td>8월</td>\n",
       "    </tr>\n",
       "    <tr>\n",
       "      <th>8</th>\n",
       "      <td>화성시</td>\n",
       "      <td>8321590.0</td>\n",
       "      <td>5.2</td>\n",
       "      <td>8월</td>\n",
       "    </tr>\n",
       "    <tr>\n",
       "      <th>9</th>\n",
       "      <td>성남시 분당구</td>\n",
       "      <td>7177504.0</td>\n",
       "      <td>4.5</td>\n",
       "      <td>8월</td>\n",
       "    </tr>\n",
       "    <tr>\n",
       "      <th>10</th>\n",
       "      <td>강서구</td>\n",
       "      <td>6900742.0</td>\n",
       "      <td>4.2</td>\n",
       "      <td>8월</td>\n",
       "    </tr>\n",
       "    <tr>\n",
       "      <th>11</th>\n",
       "      <td>서대문구</td>\n",
       "      <td>6741607.0</td>\n",
       "      <td>4.2</td>\n",
       "      <td>8월</td>\n",
       "    </tr>\n",
       "    <tr>\n",
       "      <th>12</th>\n",
       "      <td>남양주시</td>\n",
       "      <td>6519873.0</td>\n",
       "      <td>4.1</td>\n",
       "      <td>8월</td>\n",
       "    </tr>\n",
       "    <tr>\n",
       "      <th>13</th>\n",
       "      <td>해운대구</td>\n",
       "      <td>6428823.0</td>\n",
       "      <td>13.3</td>\n",
       "      <td>8월</td>\n",
       "    </tr>\n",
       "    <tr>\n",
       "      <th>14</th>\n",
       "      <td>제주시</td>\n",
       "      <td>6155493.0</td>\n",
       "      <td>56.3</td>\n",
       "      <td>8월</td>\n",
       "    </tr>\n",
       "    <tr>\n",
       "      <th>15</th>\n",
       "      <td>부산진구</td>\n",
       "      <td>5956032.0</td>\n",
       "      <td>12.3</td>\n",
       "      <td>8월</td>\n",
       "    </tr>\n",
       "    <tr>\n",
       "      <th>16</th>\n",
       "      <td>부천시</td>\n",
       "      <td>5788212.0</td>\n",
       "      <td>3.6</td>\n",
       "      <td>8월</td>\n",
       "    </tr>\n",
       "    <tr>\n",
       "      <th>17</th>\n",
       "      <td>광진구</td>\n",
       "      <td>5643500.0</td>\n",
       "      <td>3.5</td>\n",
       "      <td>8월</td>\n",
       "    </tr>\n",
       "    <tr>\n",
       "      <th>18</th>\n",
       "      <td>고양시 덕양구</td>\n",
       "      <td>5533289.0</td>\n",
       "      <td>3.5</td>\n",
       "      <td>8월</td>\n",
       "    </tr>\n",
       "    <tr>\n",
       "      <th>19</th>\n",
       "      <td>수원시 팔달구</td>\n",
       "      <td>5336494.0</td>\n",
       "      <td>3.4</td>\n",
       "      <td>8월</td>\n",
       "    </tr>\n",
       "  </tbody>\n",
       "</table>\n",
       "</div>"
      ],
      "text/plain": [
       "     기초지자체명  기초지자체 방문자 수  기초지자체 방문자 비율   월\n",
       "0       강남구   18110175.0          11.2  8월\n",
       "1       서초구   12903474.0           7.9  8월\n",
       "2    서울시 중구   11289430.0           7.0  8월\n",
       "3       종로구   10924300.0           6.7  8월\n",
       "4       송파구   10007423.0           6.2  8월\n",
       "5       마포구    9835715.0           6.1  8월\n",
       "6      영등포구    9088801.0           5.6  8월\n",
       "7       용산구    8694726.0           5.4  8월\n",
       "8       화성시    8321590.0           5.2  8월\n",
       "9   성남시 분당구    7177504.0           4.5  8월\n",
       "10      강서구    6900742.0           4.2  8월\n",
       "11     서대문구    6741607.0           4.2  8월\n",
       "12     남양주시    6519873.0           4.1  8월\n",
       "13     해운대구    6428823.0          13.3  8월\n",
       "14      제주시    6155493.0          56.3  8월\n",
       "15     부산진구    5956032.0          12.3  8월\n",
       "16      부천시    5788212.0           3.6  8월\n",
       "17      광진구    5643500.0           3.5  8월\n",
       "18  고양시 덕양구    5533289.0           3.5  8월\n",
       "19  수원시 팔달구    5336494.0           3.4  8월"
      ]
     },
     "execution_count": 74,
     "metadata": {},
     "output_type": "execute_result"
    }
   ],
   "source": [
    "df_8.loc[:19]"
   ]
  },
  {
   "cell_type": "code",
   "execution_count": null,
   "id": "12b7b74c",
   "metadata": {},
   "outputs": [],
   "source": []
  },
  {
   "cell_type": "markdown",
   "id": "04448f4f",
   "metadata": {},
   "source": [
    "## 2022년 9월 방문자수 top 20"
   ]
  },
  {
   "cell_type": "code",
   "execution_count": 39,
   "id": "cdfc3e0b",
   "metadata": {},
   "outputs": [],
   "source": [
    "df_9 = df[df['월'] == '9월'].sort_values('기초지자체 방문자 수', ascending = False, ignore_index = True)"
   ]
  },
  {
   "cell_type": "code",
   "execution_count": 71,
   "id": "80fe6c40",
   "metadata": {},
   "outputs": [],
   "source": [
    "df_9.loc[2, '기초지자체명'] = '서울시 중구'"
   ]
  },
  {
   "cell_type": "code",
   "execution_count": 72,
   "id": "697e80c4",
   "metadata": {},
   "outputs": [
    {
     "data": {
      "text/html": [
       "<div>\n",
       "<style scoped>\n",
       "    .dataframe tbody tr th:only-of-type {\n",
       "        vertical-align: middle;\n",
       "    }\n",
       "\n",
       "    .dataframe tbody tr th {\n",
       "        vertical-align: top;\n",
       "    }\n",
       "\n",
       "    .dataframe thead th {\n",
       "        text-align: right;\n",
       "    }\n",
       "</style>\n",
       "<table border=\"1\" class=\"dataframe\">\n",
       "  <thead>\n",
       "    <tr style=\"text-align: right;\">\n",
       "      <th></th>\n",
       "      <th>기초지자체명</th>\n",
       "      <th>기초지자체 방문자 수</th>\n",
       "      <th>기초지자체 방문자 비율</th>\n",
       "      <th>월</th>\n",
       "    </tr>\n",
       "  </thead>\n",
       "  <tbody>\n",
       "    <tr>\n",
       "      <th>0</th>\n",
       "      <td>강남구</td>\n",
       "      <td>17918915.0</td>\n",
       "      <td>10.4</td>\n",
       "      <td>9월</td>\n",
       "    </tr>\n",
       "    <tr>\n",
       "      <th>1</th>\n",
       "      <td>서초구</td>\n",
       "      <td>13523613.0</td>\n",
       "      <td>7.9</td>\n",
       "      <td>9월</td>\n",
       "    </tr>\n",
       "    <tr>\n",
       "      <th>2</th>\n",
       "      <td>서울시 중구</td>\n",
       "      <td>11907432.0</td>\n",
       "      <td>6.9</td>\n",
       "      <td>9월</td>\n",
       "    </tr>\n",
       "    <tr>\n",
       "      <th>3</th>\n",
       "      <td>종로구</td>\n",
       "      <td>11892395.0</td>\n",
       "      <td>6.9</td>\n",
       "      <td>9월</td>\n",
       "    </tr>\n",
       "    <tr>\n",
       "      <th>4</th>\n",
       "      <td>마포구</td>\n",
       "      <td>10328348.0</td>\n",
       "      <td>6.0</td>\n",
       "      <td>9월</td>\n",
       "    </tr>\n",
       "    <tr>\n",
       "      <th>5</th>\n",
       "      <td>송파구</td>\n",
       "      <td>10307476.0</td>\n",
       "      <td>6.0</td>\n",
       "      <td>9월</td>\n",
       "    </tr>\n",
       "    <tr>\n",
       "      <th>6</th>\n",
       "      <td>영등포구</td>\n",
       "      <td>9180283.0</td>\n",
       "      <td>5.3</td>\n",
       "      <td>9월</td>\n",
       "    </tr>\n",
       "    <tr>\n",
       "      <th>7</th>\n",
       "      <td>화성시</td>\n",
       "      <td>9048669.0</td>\n",
       "      <td>5.4</td>\n",
       "      <td>9월</td>\n",
       "    </tr>\n",
       "    <tr>\n",
       "      <th>8</th>\n",
       "      <td>용산구</td>\n",
       "      <td>8632291.0</td>\n",
       "      <td>5.0</td>\n",
       "      <td>9월</td>\n",
       "    </tr>\n",
       "    <tr>\n",
       "      <th>9</th>\n",
       "      <td>성남시 분당구</td>\n",
       "      <td>7292223.0</td>\n",
       "      <td>4.4</td>\n",
       "      <td>9월</td>\n",
       "    </tr>\n",
       "    <tr>\n",
       "      <th>10</th>\n",
       "      <td>서대문구</td>\n",
       "      <td>7274523.0</td>\n",
       "      <td>4.2</td>\n",
       "      <td>9월</td>\n",
       "    </tr>\n",
       "    <tr>\n",
       "      <th>11</th>\n",
       "      <td>남양주시</td>\n",
       "      <td>6807502.0</td>\n",
       "      <td>4.1</td>\n",
       "      <td>9월</td>\n",
       "    </tr>\n",
       "    <tr>\n",
       "      <th>12</th>\n",
       "      <td>강서구</td>\n",
       "      <td>6794469.0</td>\n",
       "      <td>4.0</td>\n",
       "      <td>9월</td>\n",
       "    </tr>\n",
       "    <tr>\n",
       "      <th>13</th>\n",
       "      <td>부천시</td>\n",
       "      <td>6276819.0</td>\n",
       "      <td>3.7</td>\n",
       "      <td>9월</td>\n",
       "    </tr>\n",
       "    <tr>\n",
       "      <th>14</th>\n",
       "      <td>광진구</td>\n",
       "      <td>6142313.0</td>\n",
       "      <td>3.6</td>\n",
       "      <td>9월</td>\n",
       "    </tr>\n",
       "    <tr>\n",
       "      <th>15</th>\n",
       "      <td>부산진구</td>\n",
       "      <td>6009671.0</td>\n",
       "      <td>12.6</td>\n",
       "      <td>9월</td>\n",
       "    </tr>\n",
       "    <tr>\n",
       "      <th>16</th>\n",
       "      <td>고양시 덕양구</td>\n",
       "      <td>5787700.0</td>\n",
       "      <td>3.5</td>\n",
       "      <td>9월</td>\n",
       "    </tr>\n",
       "    <tr>\n",
       "      <th>17</th>\n",
       "      <td>수원시 팔달구</td>\n",
       "      <td>5618964.0</td>\n",
       "      <td>3.4</td>\n",
       "      <td>9월</td>\n",
       "    </tr>\n",
       "    <tr>\n",
       "      <th>18</th>\n",
       "      <td>해운대구</td>\n",
       "      <td>5351563.0</td>\n",
       "      <td>11.2</td>\n",
       "      <td>9월</td>\n",
       "    </tr>\n",
       "    <tr>\n",
       "      <th>19</th>\n",
       "      <td>용인시 기흥구</td>\n",
       "      <td>5339390.0</td>\n",
       "      <td>3.2</td>\n",
       "      <td>9월</td>\n",
       "    </tr>\n",
       "  </tbody>\n",
       "</table>\n",
       "</div>"
      ],
      "text/plain": [
       "     기초지자체명  기초지자체 방문자 수  기초지자체 방문자 비율   월\n",
       "0       강남구   17918915.0          10.4  9월\n",
       "1       서초구   13523613.0           7.9  9월\n",
       "2    서울시 중구   11907432.0           6.9  9월\n",
       "3       종로구   11892395.0           6.9  9월\n",
       "4       마포구   10328348.0           6.0  9월\n",
       "5       송파구   10307476.0           6.0  9월\n",
       "6      영등포구    9180283.0           5.3  9월\n",
       "7       화성시    9048669.0           5.4  9월\n",
       "8       용산구    8632291.0           5.0  9월\n",
       "9   성남시 분당구    7292223.0           4.4  9월\n",
       "10     서대문구    7274523.0           4.2  9월\n",
       "11     남양주시    6807502.0           4.1  9월\n",
       "12      강서구    6794469.0           4.0  9월\n",
       "13      부천시    6276819.0           3.7  9월\n",
       "14      광진구    6142313.0           3.6  9월\n",
       "15     부산진구    6009671.0          12.6  9월\n",
       "16  고양시 덕양구    5787700.0           3.5  9월\n",
       "17  수원시 팔달구    5618964.0           3.4  9월\n",
       "18     해운대구    5351563.0          11.2  9월\n",
       "19  용인시 기흥구    5339390.0           3.2  9월"
      ]
     },
     "execution_count": 72,
     "metadata": {},
     "output_type": "execute_result"
    }
   ],
   "source": [
    "df_9.loc[:19]"
   ]
  },
  {
   "cell_type": "code",
   "execution_count": null,
   "id": "96a44747",
   "metadata": {},
   "outputs": [],
   "source": []
  },
  {
   "cell_type": "markdown",
   "id": "b3aefd6d",
   "metadata": {},
   "source": [
    "## 2022년 10월 방문자수 top 20"
   ]
  },
  {
   "cell_type": "code",
   "execution_count": 42,
   "id": "07d41889",
   "metadata": {},
   "outputs": [],
   "source": [
    "df_10 = df[df['월'] == '10월'].sort_values('기초지자체 방문자 수', ascending = False, ignore_index = True)"
   ]
  },
  {
   "cell_type": "code",
   "execution_count": 69,
   "id": "5bd77ac5",
   "metadata": {},
   "outputs": [],
   "source": [
    "df_10.loc[2, '기초지자체명'] = '서울시 중구'"
   ]
  },
  {
   "cell_type": "code",
   "execution_count": 70,
   "id": "71e3883e",
   "metadata": {
    "scrolled": true
   },
   "outputs": [
    {
     "data": {
      "text/html": [
       "<div>\n",
       "<style scoped>\n",
       "    .dataframe tbody tr th:only-of-type {\n",
       "        vertical-align: middle;\n",
       "    }\n",
       "\n",
       "    .dataframe tbody tr th {\n",
       "        vertical-align: top;\n",
       "    }\n",
       "\n",
       "    .dataframe thead th {\n",
       "        text-align: right;\n",
       "    }\n",
       "</style>\n",
       "<table border=\"1\" class=\"dataframe\">\n",
       "  <thead>\n",
       "    <tr style=\"text-align: right;\">\n",
       "      <th></th>\n",
       "      <th>기초지자체명</th>\n",
       "      <th>기초지자체 방문자 수</th>\n",
       "      <th>기초지자체 방문자 비율</th>\n",
       "      <th>월</th>\n",
       "    </tr>\n",
       "  </thead>\n",
       "  <tbody>\n",
       "    <tr>\n",
       "      <th>0</th>\n",
       "      <td>강남구</td>\n",
       "      <td>18929349.0</td>\n",
       "      <td>10.8</td>\n",
       "      <td>10월</td>\n",
       "    </tr>\n",
       "    <tr>\n",
       "      <th>1</th>\n",
       "      <td>서초구</td>\n",
       "      <td>13721206.0</td>\n",
       "      <td>7.8</td>\n",
       "      <td>10월</td>\n",
       "    </tr>\n",
       "    <tr>\n",
       "      <th>2</th>\n",
       "      <td>서울시 중구</td>\n",
       "      <td>12938112.0</td>\n",
       "      <td>7.4</td>\n",
       "      <td>10월</td>\n",
       "    </tr>\n",
       "    <tr>\n",
       "      <th>3</th>\n",
       "      <td>종로구</td>\n",
       "      <td>12714194.0</td>\n",
       "      <td>7.3</td>\n",
       "      <td>10월</td>\n",
       "    </tr>\n",
       "    <tr>\n",
       "      <th>4</th>\n",
       "      <td>송파구</td>\n",
       "      <td>10964995.0</td>\n",
       "      <td>6.3</td>\n",
       "      <td>10월</td>\n",
       "    </tr>\n",
       "    <tr>\n",
       "      <th>5</th>\n",
       "      <td>마포구</td>\n",
       "      <td>10526893.0</td>\n",
       "      <td>6.0</td>\n",
       "      <td>10월</td>\n",
       "    </tr>\n",
       "    <tr>\n",
       "      <th>6</th>\n",
       "      <td>영등포구</td>\n",
       "      <td>9764141.0</td>\n",
       "      <td>5.6</td>\n",
       "      <td>10월</td>\n",
       "    </tr>\n",
       "    <tr>\n",
       "      <th>7</th>\n",
       "      <td>용산구</td>\n",
       "      <td>9287163.0</td>\n",
       "      <td>5.3</td>\n",
       "      <td>10월</td>\n",
       "    </tr>\n",
       "    <tr>\n",
       "      <th>8</th>\n",
       "      <td>화성시</td>\n",
       "      <td>9094129.0</td>\n",
       "      <td>5.4</td>\n",
       "      <td>10월</td>\n",
       "    </tr>\n",
       "    <tr>\n",
       "      <th>9</th>\n",
       "      <td>성남시 분당구</td>\n",
       "      <td>7407489.0</td>\n",
       "      <td>4.4</td>\n",
       "      <td>10월</td>\n",
       "    </tr>\n",
       "    <tr>\n",
       "      <th>10</th>\n",
       "      <td>서대문구</td>\n",
       "      <td>6960519.0</td>\n",
       "      <td>4.0</td>\n",
       "      <td>10월</td>\n",
       "    </tr>\n",
       "    <tr>\n",
       "      <th>11</th>\n",
       "      <td>강서구</td>\n",
       "      <td>6925206.0</td>\n",
       "      <td>4.0</td>\n",
       "      <td>10월</td>\n",
       "    </tr>\n",
       "    <tr>\n",
       "      <th>12</th>\n",
       "      <td>남양주시</td>\n",
       "      <td>6816193.0</td>\n",
       "      <td>4.0</td>\n",
       "      <td>10월</td>\n",
       "    </tr>\n",
       "    <tr>\n",
       "      <th>13</th>\n",
       "      <td>부천시</td>\n",
       "      <td>6236382.0</td>\n",
       "      <td>3.7</td>\n",
       "      <td>10월</td>\n",
       "    </tr>\n",
       "    <tr>\n",
       "      <th>14</th>\n",
       "      <td>부산진구</td>\n",
       "      <td>6183558.0</td>\n",
       "      <td>12.6</td>\n",
       "      <td>10월</td>\n",
       "    </tr>\n",
       "    <tr>\n",
       "      <th>15</th>\n",
       "      <td>광진구</td>\n",
       "      <td>6012175.0</td>\n",
       "      <td>3.4</td>\n",
       "      <td>10월</td>\n",
       "    </tr>\n",
       "    <tr>\n",
       "      <th>16</th>\n",
       "      <td>제주시</td>\n",
       "      <td>6001209.0</td>\n",
       "      <td>55.8</td>\n",
       "      <td>10월</td>\n",
       "    </tr>\n",
       "    <tr>\n",
       "      <th>17</th>\n",
       "      <td>수원시 팔달구</td>\n",
       "      <td>5867913.0</td>\n",
       "      <td>3.5</td>\n",
       "      <td>10월</td>\n",
       "    </tr>\n",
       "    <tr>\n",
       "      <th>18</th>\n",
       "      <td>고양시 덕양구</td>\n",
       "      <td>5847077.0</td>\n",
       "      <td>3.5</td>\n",
       "      <td>10월</td>\n",
       "    </tr>\n",
       "    <tr>\n",
       "      <th>19</th>\n",
       "      <td>해운대구</td>\n",
       "      <td>5799430.0</td>\n",
       "      <td>11.8</td>\n",
       "      <td>10월</td>\n",
       "    </tr>\n",
       "  </tbody>\n",
       "</table>\n",
       "</div>"
      ],
      "text/plain": [
       "     기초지자체명  기초지자체 방문자 수  기초지자체 방문자 비율    월\n",
       "0       강남구   18929349.0          10.8  10월\n",
       "1       서초구   13721206.0           7.8  10월\n",
       "2    서울시 중구   12938112.0           7.4  10월\n",
       "3       종로구   12714194.0           7.3  10월\n",
       "4       송파구   10964995.0           6.3  10월\n",
       "5       마포구   10526893.0           6.0  10월\n",
       "6      영등포구    9764141.0           5.6  10월\n",
       "7       용산구    9287163.0           5.3  10월\n",
       "8       화성시    9094129.0           5.4  10월\n",
       "9   성남시 분당구    7407489.0           4.4  10월\n",
       "10     서대문구    6960519.0           4.0  10월\n",
       "11      강서구    6925206.0           4.0  10월\n",
       "12     남양주시    6816193.0           4.0  10월\n",
       "13      부천시    6236382.0           3.7  10월\n",
       "14     부산진구    6183558.0          12.6  10월\n",
       "15      광진구    6012175.0           3.4  10월\n",
       "16      제주시    6001209.0          55.8  10월\n",
       "17  수원시 팔달구    5867913.0           3.5  10월\n",
       "18  고양시 덕양구    5847077.0           3.5  10월\n",
       "19     해운대구    5799430.0          11.8  10월"
      ]
     },
     "execution_count": 70,
     "metadata": {},
     "output_type": "execute_result"
    }
   ],
   "source": [
    "df_10.loc[:19]"
   ]
  },
  {
   "cell_type": "code",
   "execution_count": null,
   "id": "e6355b1b",
   "metadata": {},
   "outputs": [],
   "source": []
  },
  {
   "cell_type": "markdown",
   "id": "05371ecb",
   "metadata": {},
   "source": [
    "## 2022년 11월 방문자수 top 20"
   ]
  },
  {
   "cell_type": "code",
   "execution_count": 65,
   "id": "c1253c4f",
   "metadata": {},
   "outputs": [],
   "source": [
    "df_11 = df[df['월'] == '11월'].sort_values('기초지자체 방문자 수', ascending = False, ignore_index = True)"
   ]
  },
  {
   "cell_type": "code",
   "execution_count": 67,
   "id": "d89d206c",
   "metadata": {},
   "outputs": [],
   "source": [
    "df_11.loc[2, '기초지자체명'] = '서울시 중구'"
   ]
  },
  {
   "cell_type": "code",
   "execution_count": 68,
   "id": "02629f59",
   "metadata": {},
   "outputs": [
    {
     "data": {
      "text/html": [
       "<div>\n",
       "<style scoped>\n",
       "    .dataframe tbody tr th:only-of-type {\n",
       "        vertical-align: middle;\n",
       "    }\n",
       "\n",
       "    .dataframe tbody tr th {\n",
       "        vertical-align: top;\n",
       "    }\n",
       "\n",
       "    .dataframe thead th {\n",
       "        text-align: right;\n",
       "    }\n",
       "</style>\n",
       "<table border=\"1\" class=\"dataframe\">\n",
       "  <thead>\n",
       "    <tr style=\"text-align: right;\">\n",
       "      <th></th>\n",
       "      <th>기초지자체명</th>\n",
       "      <th>기초지자체 방문자 수</th>\n",
       "      <th>기초지자체 방문자 비율</th>\n",
       "      <th>월</th>\n",
       "    </tr>\n",
       "  </thead>\n",
       "  <tbody>\n",
       "    <tr>\n",
       "      <th>0</th>\n",
       "      <td>강남구</td>\n",
       "      <td>18615799.0</td>\n",
       "      <td>11.3</td>\n",
       "      <td>11월</td>\n",
       "    </tr>\n",
       "    <tr>\n",
       "      <th>1</th>\n",
       "      <td>서초구</td>\n",
       "      <td>13109360.0</td>\n",
       "      <td>7.9</td>\n",
       "      <td>11월</td>\n",
       "    </tr>\n",
       "    <tr>\n",
       "      <th>2</th>\n",
       "      <td>서울시 중구</td>\n",
       "      <td>12191222.0</td>\n",
       "      <td>7.4</td>\n",
       "      <td>11월</td>\n",
       "    </tr>\n",
       "    <tr>\n",
       "      <th>3</th>\n",
       "      <td>종로구</td>\n",
       "      <td>11663931.0</td>\n",
       "      <td>7.1</td>\n",
       "      <td>11월</td>\n",
       "    </tr>\n",
       "    <tr>\n",
       "      <th>4</th>\n",
       "      <td>송파구</td>\n",
       "      <td>9819012.0</td>\n",
       "      <td>5.9</td>\n",
       "      <td>11월</td>\n",
       "    </tr>\n",
       "    <tr>\n",
       "      <th>5</th>\n",
       "      <td>마포구</td>\n",
       "      <td>9609249.0</td>\n",
       "      <td>5.8</td>\n",
       "      <td>11월</td>\n",
       "    </tr>\n",
       "    <tr>\n",
       "      <th>6</th>\n",
       "      <td>영등포구</td>\n",
       "      <td>9238393.0</td>\n",
       "      <td>5.6</td>\n",
       "      <td>11월</td>\n",
       "    </tr>\n",
       "    <tr>\n",
       "      <th>7</th>\n",
       "      <td>화성시</td>\n",
       "      <td>8313294.0</td>\n",
       "      <td>5.5</td>\n",
       "      <td>11월</td>\n",
       "    </tr>\n",
       "    <tr>\n",
       "      <th>8</th>\n",
       "      <td>용산구</td>\n",
       "      <td>8158791.0</td>\n",
       "      <td>4.9</td>\n",
       "      <td>11월</td>\n",
       "    </tr>\n",
       "    <tr>\n",
       "      <th>9</th>\n",
       "      <td>성남시 분당구</td>\n",
       "      <td>7086604.0</td>\n",
       "      <td>4.7</td>\n",
       "      <td>11월</td>\n",
       "    </tr>\n",
       "    <tr>\n",
       "      <th>10</th>\n",
       "      <td>서대문구</td>\n",
       "      <td>6918042.0</td>\n",
       "      <td>4.2</td>\n",
       "      <td>11월</td>\n",
       "    </tr>\n",
       "    <tr>\n",
       "      <th>11</th>\n",
       "      <td>강서구</td>\n",
       "      <td>6382468.0</td>\n",
       "      <td>3.9</td>\n",
       "      <td>11월</td>\n",
       "    </tr>\n",
       "    <tr>\n",
       "      <th>12</th>\n",
       "      <td>남양주시</td>\n",
       "      <td>6007065.0</td>\n",
       "      <td>4.0</td>\n",
       "      <td>11월</td>\n",
       "    </tr>\n",
       "    <tr>\n",
       "      <th>13</th>\n",
       "      <td>부산진구</td>\n",
       "      <td>5725629.0</td>\n",
       "      <td>12.8</td>\n",
       "      <td>11월</td>\n",
       "    </tr>\n",
       "    <tr>\n",
       "      <th>14</th>\n",
       "      <td>부천시</td>\n",
       "      <td>5660523.0</td>\n",
       "      <td>3.8</td>\n",
       "      <td>11월</td>\n",
       "    </tr>\n",
       "    <tr>\n",
       "      <th>15</th>\n",
       "      <td>광진구</td>\n",
       "      <td>5628397.0</td>\n",
       "      <td>3.4</td>\n",
       "      <td>11월</td>\n",
       "    </tr>\n",
       "    <tr>\n",
       "      <th>16</th>\n",
       "      <td>구로구</td>\n",
       "      <td>5369634.0</td>\n",
       "      <td>3.3</td>\n",
       "      <td>11월</td>\n",
       "    </tr>\n",
       "    <tr>\n",
       "      <th>17</th>\n",
       "      <td>해운대구</td>\n",
       "      <td>5255393.0</td>\n",
       "      <td>11.8</td>\n",
       "      <td>11월</td>\n",
       "    </tr>\n",
       "    <tr>\n",
       "      <th>18</th>\n",
       "      <td>고양시 덕양구</td>\n",
       "      <td>5251602.0</td>\n",
       "      <td>3.5</td>\n",
       "      <td>11월</td>\n",
       "    </tr>\n",
       "    <tr>\n",
       "      <th>19</th>\n",
       "      <td>제주시</td>\n",
       "      <td>5196776.0</td>\n",
       "      <td>56.5</td>\n",
       "      <td>11월</td>\n",
       "    </tr>\n",
       "  </tbody>\n",
       "</table>\n",
       "</div>"
      ],
      "text/plain": [
       "     기초지자체명  기초지자체 방문자 수  기초지자체 방문자 비율    월\n",
       "0       강남구   18615799.0          11.3  11월\n",
       "1       서초구   13109360.0           7.9  11월\n",
       "2    서울시 중구   12191222.0           7.4  11월\n",
       "3       종로구   11663931.0           7.1  11월\n",
       "4       송파구    9819012.0           5.9  11월\n",
       "5       마포구    9609249.0           5.8  11월\n",
       "6      영등포구    9238393.0           5.6  11월\n",
       "7       화성시    8313294.0           5.5  11월\n",
       "8       용산구    8158791.0           4.9  11월\n",
       "9   성남시 분당구    7086604.0           4.7  11월\n",
       "10     서대문구    6918042.0           4.2  11월\n",
       "11      강서구    6382468.0           3.9  11월\n",
       "12     남양주시    6007065.0           4.0  11월\n",
       "13     부산진구    5725629.0          12.8  11월\n",
       "14      부천시    5660523.0           3.8  11월\n",
       "15      광진구    5628397.0           3.4  11월\n",
       "16      구로구    5369634.0           3.3  11월\n",
       "17     해운대구    5255393.0          11.8  11월\n",
       "18  고양시 덕양구    5251602.0           3.5  11월\n",
       "19      제주시    5196776.0          56.5  11월"
      ]
     },
     "execution_count": 68,
     "metadata": {},
     "output_type": "execute_result"
    }
   ],
   "source": [
    "df_11.loc[:19]"
   ]
  },
  {
   "cell_type": "code",
   "execution_count": null,
   "id": "dec3fd9c",
   "metadata": {},
   "outputs": [],
   "source": []
  },
  {
   "cell_type": "markdown",
   "id": "aec5bcd4",
   "metadata": {},
   "source": [
    "## 2022년 12월 방문자수 top 20"
   ]
  },
  {
   "cell_type": "code",
   "execution_count": 48,
   "id": "0ad90876",
   "metadata": {},
   "outputs": [],
   "source": [
    "df_12 = df[df['월'] == '12월'].sort_values('기초지자체 방문자 수', ascending = False, ignore_index = True)"
   ]
  },
  {
   "cell_type": "code",
   "execution_count": 60,
   "id": "db5bc3af",
   "metadata": {},
   "outputs": [],
   "source": [
    "df_12.loc[16, '기초지자체명'] = '대구시 중구'"
   ]
  },
  {
   "cell_type": "code",
   "execution_count": 88,
   "id": "aa56fe68",
   "metadata": {
    "scrolled": true
   },
   "outputs": [
    {
     "data": {
      "text/html": [
       "<div>\n",
       "<style scoped>\n",
       "    .dataframe tbody tr th:only-of-type {\n",
       "        vertical-align: middle;\n",
       "    }\n",
       "\n",
       "    .dataframe tbody tr th {\n",
       "        vertical-align: top;\n",
       "    }\n",
       "\n",
       "    .dataframe thead th {\n",
       "        text-align: right;\n",
       "    }\n",
       "</style>\n",
       "<table border=\"1\" class=\"dataframe\">\n",
       "  <thead>\n",
       "    <tr style=\"text-align: right;\">\n",
       "      <th></th>\n",
       "      <th>기초지자체명</th>\n",
       "      <th>기초지자체 방문자 수</th>\n",
       "      <th>기초지자체 방문자 비율</th>\n",
       "      <th>월</th>\n",
       "    </tr>\n",
       "  </thead>\n",
       "  <tbody>\n",
       "    <tr>\n",
       "      <th>0</th>\n",
       "      <td>강남구</td>\n",
       "      <td>18959450.0</td>\n",
       "      <td>11.4</td>\n",
       "      <td>12월</td>\n",
       "    </tr>\n",
       "    <tr>\n",
       "      <th>1</th>\n",
       "      <td>서초구</td>\n",
       "      <td>13538753.0</td>\n",
       "      <td>8.2</td>\n",
       "      <td>12월</td>\n",
       "    </tr>\n",
       "    <tr>\n",
       "      <th>2</th>\n",
       "      <td>서울시 중구</td>\n",
       "      <td>12298380.0</td>\n",
       "      <td>7.4</td>\n",
       "      <td>12월</td>\n",
       "    </tr>\n",
       "    <tr>\n",
       "      <th>3</th>\n",
       "      <td>종로구</td>\n",
       "      <td>11266919.0</td>\n",
       "      <td>6.8</td>\n",
       "      <td>12월</td>\n",
       "    </tr>\n",
       "    <tr>\n",
       "      <th>4</th>\n",
       "      <td>송파구</td>\n",
       "      <td>10526152.0</td>\n",
       "      <td>6.4</td>\n",
       "      <td>12월</td>\n",
       "    </tr>\n",
       "    <tr>\n",
       "      <th>5</th>\n",
       "      <td>마포구</td>\n",
       "      <td>9812722.0</td>\n",
       "      <td>5.9</td>\n",
       "      <td>12월</td>\n",
       "    </tr>\n",
       "    <tr>\n",
       "      <th>6</th>\n",
       "      <td>영등포구</td>\n",
       "      <td>9270251.0</td>\n",
       "      <td>5.6</td>\n",
       "      <td>12월</td>\n",
       "    </tr>\n",
       "    <tr>\n",
       "      <th>7</th>\n",
       "      <td>용산구</td>\n",
       "      <td>8207881.0</td>\n",
       "      <td>5.0</td>\n",
       "      <td>12월</td>\n",
       "    </tr>\n",
       "    <tr>\n",
       "      <th>8</th>\n",
       "      <td>화성시</td>\n",
       "      <td>7597732.0</td>\n",
       "      <td>5.3</td>\n",
       "      <td>12월</td>\n",
       "    </tr>\n",
       "    <tr>\n",
       "      <th>9</th>\n",
       "      <td>성남시 분당구</td>\n",
       "      <td>7252636.0</td>\n",
       "      <td>5.1</td>\n",
       "      <td>12월</td>\n",
       "    </tr>\n",
       "    <tr>\n",
       "      <th>10</th>\n",
       "      <td>서대문구</td>\n",
       "      <td>6942565.0</td>\n",
       "      <td>4.2</td>\n",
       "      <td>12월</td>\n",
       "    </tr>\n",
       "    <tr>\n",
       "      <th>11</th>\n",
       "      <td>강서구</td>\n",
       "      <td>6426137.0</td>\n",
       "      <td>3.9</td>\n",
       "      <td>12월</td>\n",
       "    </tr>\n",
       "    <tr>\n",
       "      <th>12</th>\n",
       "      <td>부산진구</td>\n",
       "      <td>6142012.0</td>\n",
       "      <td>13.1</td>\n",
       "      <td>12월</td>\n",
       "    </tr>\n",
       "    <tr>\n",
       "      <th>13</th>\n",
       "      <td>부천시</td>\n",
       "      <td>5858187.0</td>\n",
       "      <td>4.1</td>\n",
       "      <td>12월</td>\n",
       "    </tr>\n",
       "    <tr>\n",
       "      <th>14</th>\n",
       "      <td>해운대구</td>\n",
       "      <td>5797922.0</td>\n",
       "      <td>12.4</td>\n",
       "      <td>12월</td>\n",
       "    </tr>\n",
       "    <tr>\n",
       "      <th>15</th>\n",
       "      <td>광진구</td>\n",
       "      <td>5520108.0</td>\n",
       "      <td>3.3</td>\n",
       "      <td>12월</td>\n",
       "    </tr>\n",
       "    <tr>\n",
       "      <th>16</th>\n",
       "      <td>대구시 중구</td>\n",
       "      <td>5464250.0</td>\n",
       "      <td>19.0</td>\n",
       "      <td>12월</td>\n",
       "    </tr>\n",
       "    <tr>\n",
       "      <th>17</th>\n",
       "      <td>수원시 팔달구</td>\n",
       "      <td>5362280.0</td>\n",
       "      <td>3.7</td>\n",
       "      <td>12월</td>\n",
       "    </tr>\n",
       "    <tr>\n",
       "      <th>18</th>\n",
       "      <td>남양주시</td>\n",
       "      <td>5326585.0</td>\n",
       "      <td>3.7</td>\n",
       "      <td>12월</td>\n",
       "    </tr>\n",
       "    <tr>\n",
       "      <th>19</th>\n",
       "      <td>구로구</td>\n",
       "      <td>5192679.0</td>\n",
       "      <td>3.1</td>\n",
       "      <td>12월</td>\n",
       "    </tr>\n",
       "    <tr>\n",
       "      <th>20</th>\n",
       "      <td>고양시 일산동구</td>\n",
       "      <td>5166994.0</td>\n",
       "      <td>3.6</td>\n",
       "      <td>12월</td>\n",
       "    </tr>\n",
       "    <tr>\n",
       "      <th>21</th>\n",
       "      <td>고양시 덕양구</td>\n",
       "      <td>5159127.0</td>\n",
       "      <td>3.6</td>\n",
       "      <td>12월</td>\n",
       "    </tr>\n",
       "    <tr>\n",
       "      <th>22</th>\n",
       "      <td>중구</td>\n",
       "      <td>5139041.0</td>\n",
       "      <td>17.3</td>\n",
       "      <td>12월</td>\n",
       "    </tr>\n",
       "    <tr>\n",
       "      <th>23</th>\n",
       "      <td>성동구</td>\n",
       "      <td>4889794.0</td>\n",
       "      <td>3.0</td>\n",
       "      <td>12월</td>\n",
       "    </tr>\n",
       "    <tr>\n",
       "      <th>24</th>\n",
       "      <td>동구</td>\n",
       "      <td>4887828.0</td>\n",
       "      <td>17.0</td>\n",
       "      <td>12월</td>\n",
       "    </tr>\n",
       "    <tr>\n",
       "      <th>25</th>\n",
       "      <td>서구</td>\n",
       "      <td>4878876.0</td>\n",
       "      <td>28.0</td>\n",
       "      <td>12월</td>\n",
       "    </tr>\n",
       "    <tr>\n",
       "      <th>26</th>\n",
       "      <td>동작구</td>\n",
       "      <td>4875417.0</td>\n",
       "      <td>2.9</td>\n",
       "      <td>12월</td>\n",
       "    </tr>\n",
       "    <tr>\n",
       "      <th>27</th>\n",
       "      <td>제주시</td>\n",
       "      <td>4749068.0</td>\n",
       "      <td>57.0</td>\n",
       "      <td>12월</td>\n",
       "    </tr>\n",
       "    <tr>\n",
       "      <th>28</th>\n",
       "      <td>관악구</td>\n",
       "      <td>4729715.0</td>\n",
       "      <td>2.9</td>\n",
       "      <td>12월</td>\n",
       "    </tr>\n",
       "    <tr>\n",
       "      <th>29</th>\n",
       "      <td>수원시 영통구</td>\n",
       "      <td>4693228.0</td>\n",
       "      <td>3.3</td>\n",
       "      <td>12월</td>\n",
       "    </tr>\n",
       "  </tbody>\n",
       "</table>\n",
       "</div>"
      ],
      "text/plain": [
       "      기초지자체명  기초지자체 방문자 수  기초지자체 방문자 비율    월\n",
       "0        강남구   18959450.0          11.4  12월\n",
       "1        서초구   13538753.0           8.2  12월\n",
       "2     서울시 중구   12298380.0           7.4  12월\n",
       "3        종로구   11266919.0           6.8  12월\n",
       "4        송파구   10526152.0           6.4  12월\n",
       "5        마포구    9812722.0           5.9  12월\n",
       "6       영등포구    9270251.0           5.6  12월\n",
       "7        용산구    8207881.0           5.0  12월\n",
       "8        화성시    7597732.0           5.3  12월\n",
       "9    성남시 분당구    7252636.0           5.1  12월\n",
       "10      서대문구    6942565.0           4.2  12월\n",
       "11       강서구    6426137.0           3.9  12월\n",
       "12      부산진구    6142012.0          13.1  12월\n",
       "13       부천시    5858187.0           4.1  12월\n",
       "14      해운대구    5797922.0          12.4  12월\n",
       "15       광진구    5520108.0           3.3  12월\n",
       "16    대구시 중구    5464250.0          19.0  12월\n",
       "17   수원시 팔달구    5362280.0           3.7  12월\n",
       "18      남양주시    5326585.0           3.7  12월\n",
       "19       구로구    5192679.0           3.1  12월\n",
       "20  고양시 일산동구    5166994.0           3.6  12월\n",
       "21   고양시 덕양구    5159127.0           3.6  12월\n",
       "22        중구    5139041.0          17.3  12월\n",
       "23       성동구    4889794.0           3.0  12월\n",
       "24        동구    4887828.0          17.0  12월\n",
       "25        서구    4878876.0          28.0  12월\n",
       "26       동작구    4875417.0           2.9  12월\n",
       "27       제주시    4749068.0          57.0  12월\n",
       "28       관악구    4729715.0           2.9  12월\n",
       "29   수원시 영통구    4693228.0           3.3  12월"
      ]
     },
     "execution_count": 88,
     "metadata": {},
     "output_type": "execute_result"
    }
   ],
   "source": [
    "df_12.loc[:29]"
   ]
  },
  {
   "cell_type": "code",
   "execution_count": null,
   "id": "bf19c404",
   "metadata": {},
   "outputs": [],
   "source": []
  },
  {
   "cell_type": "code",
   "execution_count": 108,
   "id": "030eef6a",
   "metadata": {},
   "outputs": [
    {
     "data": {
      "application/vnd.plotly.v1+json": {
       "config": {
        "plotlyServerURL": "https://plot.ly"
       },
       "data": [
        {
         "alignmentgroup": "True",
         "hovertemplate": "기초지자체명=%{x}<br>기초지자체 방문자 수=%{y}<extra></extra>",
         "legendgroup": "",
         "marker": {
          "color": "#636efa",
          "pattern": {
           "shape": ""
          }
         },
         "name": "",
         "offsetgroup": "",
         "orientation": "v",
         "showlegend": false,
         "textposition": "auto",
         "type": "bar",
         "x": [
          "강남구",
          "서초구",
          "서울시 중구",
          "종로구",
          "송파구",
          "마포구",
          "영등포구",
          "화성시",
          "성남시 분당구",
          "용산구",
          "강서구",
          "서대문구",
          "제주시",
          "부천시",
          "부산진구",
          "해운대구",
          "남양주시",
          "고양시 덕양구",
          "광진구",
          "고양시 일산동구"
         ],
         "xaxis": "x",
         "y": [
          16563951,
          11467780,
          9478629,
          8900897,
          8704873,
          8083624,
          7917188,
          7307793,
          6599185,
          6536793,
          5987861,
          5831560,
          5590239,
          5486961,
          5430164,
          5386438,
          5334936,
          4897463,
          4894047,
          4793964
         ],
         "yaxis": "y"
        }
       ],
       "layout": {
        "barmode": "relative",
        "legend": {
         "tracegroupgap": 0
        },
        "margin": {
         "t": 60
        },
        "template": {
         "data": {
          "bar": [
           {
            "error_x": {
             "color": "#2a3f5f"
            },
            "error_y": {
             "color": "#2a3f5f"
            },
            "marker": {
             "line": {
              "color": "#E5ECF6",
              "width": 0.5
             },
             "pattern": {
              "fillmode": "overlay",
              "size": 10,
              "solidity": 0.2
             }
            },
            "type": "bar"
           }
          ],
          "barpolar": [
           {
            "marker": {
             "line": {
              "color": "#E5ECF6",
              "width": 0.5
             },
             "pattern": {
              "fillmode": "overlay",
              "size": 10,
              "solidity": 0.2
             }
            },
            "type": "barpolar"
           }
          ],
          "carpet": [
           {
            "aaxis": {
             "endlinecolor": "#2a3f5f",
             "gridcolor": "white",
             "linecolor": "white",
             "minorgridcolor": "white",
             "startlinecolor": "#2a3f5f"
            },
            "baxis": {
             "endlinecolor": "#2a3f5f",
             "gridcolor": "white",
             "linecolor": "white",
             "minorgridcolor": "white",
             "startlinecolor": "#2a3f5f"
            },
            "type": "carpet"
           }
          ],
          "choropleth": [
           {
            "colorbar": {
             "outlinewidth": 0,
             "ticks": ""
            },
            "type": "choropleth"
           }
          ],
          "contour": [
           {
            "colorbar": {
             "outlinewidth": 0,
             "ticks": ""
            },
            "colorscale": [
             [
              0,
              "#0d0887"
             ],
             [
              0.1111111111111111,
              "#46039f"
             ],
             [
              0.2222222222222222,
              "#7201a8"
             ],
             [
              0.3333333333333333,
              "#9c179e"
             ],
             [
              0.4444444444444444,
              "#bd3786"
             ],
             [
              0.5555555555555556,
              "#d8576b"
             ],
             [
              0.6666666666666666,
              "#ed7953"
             ],
             [
              0.7777777777777778,
              "#fb9f3a"
             ],
             [
              0.8888888888888888,
              "#fdca26"
             ],
             [
              1,
              "#f0f921"
             ]
            ],
            "type": "contour"
           }
          ],
          "contourcarpet": [
           {
            "colorbar": {
             "outlinewidth": 0,
             "ticks": ""
            },
            "type": "contourcarpet"
           }
          ],
          "heatmap": [
           {
            "colorbar": {
             "outlinewidth": 0,
             "ticks": ""
            },
            "colorscale": [
             [
              0,
              "#0d0887"
             ],
             [
              0.1111111111111111,
              "#46039f"
             ],
             [
              0.2222222222222222,
              "#7201a8"
             ],
             [
              0.3333333333333333,
              "#9c179e"
             ],
             [
              0.4444444444444444,
              "#bd3786"
             ],
             [
              0.5555555555555556,
              "#d8576b"
             ],
             [
              0.6666666666666666,
              "#ed7953"
             ],
             [
              0.7777777777777778,
              "#fb9f3a"
             ],
             [
              0.8888888888888888,
              "#fdca26"
             ],
             [
              1,
              "#f0f921"
             ]
            ],
            "type": "heatmap"
           }
          ],
          "heatmapgl": [
           {
            "colorbar": {
             "outlinewidth": 0,
             "ticks": ""
            },
            "colorscale": [
             [
              0,
              "#0d0887"
             ],
             [
              0.1111111111111111,
              "#46039f"
             ],
             [
              0.2222222222222222,
              "#7201a8"
             ],
             [
              0.3333333333333333,
              "#9c179e"
             ],
             [
              0.4444444444444444,
              "#bd3786"
             ],
             [
              0.5555555555555556,
              "#d8576b"
             ],
             [
              0.6666666666666666,
              "#ed7953"
             ],
             [
              0.7777777777777778,
              "#fb9f3a"
             ],
             [
              0.8888888888888888,
              "#fdca26"
             ],
             [
              1,
              "#f0f921"
             ]
            ],
            "type": "heatmapgl"
           }
          ],
          "histogram": [
           {
            "marker": {
             "pattern": {
              "fillmode": "overlay",
              "size": 10,
              "solidity": 0.2
             }
            },
            "type": "histogram"
           }
          ],
          "histogram2d": [
           {
            "colorbar": {
             "outlinewidth": 0,
             "ticks": ""
            },
            "colorscale": [
             [
              0,
              "#0d0887"
             ],
             [
              0.1111111111111111,
              "#46039f"
             ],
             [
              0.2222222222222222,
              "#7201a8"
             ],
             [
              0.3333333333333333,
              "#9c179e"
             ],
             [
              0.4444444444444444,
              "#bd3786"
             ],
             [
              0.5555555555555556,
              "#d8576b"
             ],
             [
              0.6666666666666666,
              "#ed7953"
             ],
             [
              0.7777777777777778,
              "#fb9f3a"
             ],
             [
              0.8888888888888888,
              "#fdca26"
             ],
             [
              1,
              "#f0f921"
             ]
            ],
            "type": "histogram2d"
           }
          ],
          "histogram2dcontour": [
           {
            "colorbar": {
             "outlinewidth": 0,
             "ticks": ""
            },
            "colorscale": [
             [
              0,
              "#0d0887"
             ],
             [
              0.1111111111111111,
              "#46039f"
             ],
             [
              0.2222222222222222,
              "#7201a8"
             ],
             [
              0.3333333333333333,
              "#9c179e"
             ],
             [
              0.4444444444444444,
              "#bd3786"
             ],
             [
              0.5555555555555556,
              "#d8576b"
             ],
             [
              0.6666666666666666,
              "#ed7953"
             ],
             [
              0.7777777777777778,
              "#fb9f3a"
             ],
             [
              0.8888888888888888,
              "#fdca26"
             ],
             [
              1,
              "#f0f921"
             ]
            ],
            "type": "histogram2dcontour"
           }
          ],
          "mesh3d": [
           {
            "colorbar": {
             "outlinewidth": 0,
             "ticks": ""
            },
            "type": "mesh3d"
           }
          ],
          "parcoords": [
           {
            "line": {
             "colorbar": {
              "outlinewidth": 0,
              "ticks": ""
             }
            },
            "type": "parcoords"
           }
          ],
          "pie": [
           {
            "automargin": true,
            "type": "pie"
           }
          ],
          "scatter": [
           {
            "marker": {
             "colorbar": {
              "outlinewidth": 0,
              "ticks": ""
             }
            },
            "type": "scatter"
           }
          ],
          "scatter3d": [
           {
            "line": {
             "colorbar": {
              "outlinewidth": 0,
              "ticks": ""
             }
            },
            "marker": {
             "colorbar": {
              "outlinewidth": 0,
              "ticks": ""
             }
            },
            "type": "scatter3d"
           }
          ],
          "scattercarpet": [
           {
            "marker": {
             "colorbar": {
              "outlinewidth": 0,
              "ticks": ""
             }
            },
            "type": "scattercarpet"
           }
          ],
          "scattergeo": [
           {
            "marker": {
             "colorbar": {
              "outlinewidth": 0,
              "ticks": ""
             }
            },
            "type": "scattergeo"
           }
          ],
          "scattergl": [
           {
            "marker": {
             "colorbar": {
              "outlinewidth": 0,
              "ticks": ""
             }
            },
            "type": "scattergl"
           }
          ],
          "scattermapbox": [
           {
            "marker": {
             "colorbar": {
              "outlinewidth": 0,
              "ticks": ""
             }
            },
            "type": "scattermapbox"
           }
          ],
          "scatterpolar": [
           {
            "marker": {
             "colorbar": {
              "outlinewidth": 0,
              "ticks": ""
             }
            },
            "type": "scatterpolar"
           }
          ],
          "scatterpolargl": [
           {
            "marker": {
             "colorbar": {
              "outlinewidth": 0,
              "ticks": ""
             }
            },
            "type": "scatterpolargl"
           }
          ],
          "scatterternary": [
           {
            "marker": {
             "colorbar": {
              "outlinewidth": 0,
              "ticks": ""
             }
            },
            "type": "scatterternary"
           }
          ],
          "surface": [
           {
            "colorbar": {
             "outlinewidth": 0,
             "ticks": ""
            },
            "colorscale": [
             [
              0,
              "#0d0887"
             ],
             [
              0.1111111111111111,
              "#46039f"
             ],
             [
              0.2222222222222222,
              "#7201a8"
             ],
             [
              0.3333333333333333,
              "#9c179e"
             ],
             [
              0.4444444444444444,
              "#bd3786"
             ],
             [
              0.5555555555555556,
              "#d8576b"
             ],
             [
              0.6666666666666666,
              "#ed7953"
             ],
             [
              0.7777777777777778,
              "#fb9f3a"
             ],
             [
              0.8888888888888888,
              "#fdca26"
             ],
             [
              1,
              "#f0f921"
             ]
            ],
            "type": "surface"
           }
          ],
          "table": [
           {
            "cells": {
             "fill": {
              "color": "#EBF0F8"
             },
             "line": {
              "color": "white"
             }
            },
            "header": {
             "fill": {
              "color": "#C8D4E3"
             },
             "line": {
              "color": "white"
             }
            },
            "type": "table"
           }
          ]
         },
         "layout": {
          "annotationdefaults": {
           "arrowcolor": "#2a3f5f",
           "arrowhead": 0,
           "arrowwidth": 1
          },
          "autotypenumbers": "strict",
          "coloraxis": {
           "colorbar": {
            "outlinewidth": 0,
            "ticks": ""
           }
          },
          "colorscale": {
           "diverging": [
            [
             0,
             "#8e0152"
            ],
            [
             0.1,
             "#c51b7d"
            ],
            [
             0.2,
             "#de77ae"
            ],
            [
             0.3,
             "#f1b6da"
            ],
            [
             0.4,
             "#fde0ef"
            ],
            [
             0.5,
             "#f7f7f7"
            ],
            [
             0.6,
             "#e6f5d0"
            ],
            [
             0.7,
             "#b8e186"
            ],
            [
             0.8,
             "#7fbc41"
            ],
            [
             0.9,
             "#4d9221"
            ],
            [
             1,
             "#276419"
            ]
           ],
           "sequential": [
            [
             0,
             "#0d0887"
            ],
            [
             0.1111111111111111,
             "#46039f"
            ],
            [
             0.2222222222222222,
             "#7201a8"
            ],
            [
             0.3333333333333333,
             "#9c179e"
            ],
            [
             0.4444444444444444,
             "#bd3786"
            ],
            [
             0.5555555555555556,
             "#d8576b"
            ],
            [
             0.6666666666666666,
             "#ed7953"
            ],
            [
             0.7777777777777778,
             "#fb9f3a"
            ],
            [
             0.8888888888888888,
             "#fdca26"
            ],
            [
             1,
             "#f0f921"
            ]
           ],
           "sequentialminus": [
            [
             0,
             "#0d0887"
            ],
            [
             0.1111111111111111,
             "#46039f"
            ],
            [
             0.2222222222222222,
             "#7201a8"
            ],
            [
             0.3333333333333333,
             "#9c179e"
            ],
            [
             0.4444444444444444,
             "#bd3786"
            ],
            [
             0.5555555555555556,
             "#d8576b"
            ],
            [
             0.6666666666666666,
             "#ed7953"
            ],
            [
             0.7777777777777778,
             "#fb9f3a"
            ],
            [
             0.8888888888888888,
             "#fdca26"
            ],
            [
             1,
             "#f0f921"
            ]
           ]
          },
          "colorway": [
           "#636efa",
           "#EF553B",
           "#00cc96",
           "#ab63fa",
           "#FFA15A",
           "#19d3f3",
           "#FF6692",
           "#B6E880",
           "#FF97FF",
           "#FECB52"
          ],
          "font": {
           "color": "#2a3f5f"
          },
          "geo": {
           "bgcolor": "white",
           "lakecolor": "white",
           "landcolor": "#E5ECF6",
           "showlakes": true,
           "showland": true,
           "subunitcolor": "white"
          },
          "hoverlabel": {
           "align": "left"
          },
          "hovermode": "closest",
          "mapbox": {
           "style": "light"
          },
          "paper_bgcolor": "white",
          "plot_bgcolor": "#E5ECF6",
          "polar": {
           "angularaxis": {
            "gridcolor": "white",
            "linecolor": "white",
            "ticks": ""
           },
           "bgcolor": "#E5ECF6",
           "radialaxis": {
            "gridcolor": "white",
            "linecolor": "white",
            "ticks": ""
           }
          },
          "scene": {
           "xaxis": {
            "backgroundcolor": "#E5ECF6",
            "gridcolor": "white",
            "gridwidth": 2,
            "linecolor": "white",
            "showbackground": true,
            "ticks": "",
            "zerolinecolor": "white"
           },
           "yaxis": {
            "backgroundcolor": "#E5ECF6",
            "gridcolor": "white",
            "gridwidth": 2,
            "linecolor": "white",
            "showbackground": true,
            "ticks": "",
            "zerolinecolor": "white"
           },
           "zaxis": {
            "backgroundcolor": "#E5ECF6",
            "gridcolor": "white",
            "gridwidth": 2,
            "linecolor": "white",
            "showbackground": true,
            "ticks": "",
            "zerolinecolor": "white"
           }
          },
          "shapedefaults": {
           "line": {
            "color": "#2a3f5f"
           }
          },
          "ternary": {
           "aaxis": {
            "gridcolor": "white",
            "linecolor": "white",
            "ticks": ""
           },
           "baxis": {
            "gridcolor": "white",
            "linecolor": "white",
            "ticks": ""
           },
           "bgcolor": "#E5ECF6",
           "caxis": {
            "gridcolor": "white",
            "linecolor": "white",
            "ticks": ""
           }
          },
          "title": {
           "x": 0.05
          },
          "xaxis": {
           "automargin": true,
           "gridcolor": "white",
           "linecolor": "white",
           "ticks": "",
           "title": {
            "standoff": 15
           },
           "zerolinecolor": "white",
           "zerolinewidth": 2
          },
          "yaxis": {
           "automargin": true,
           "gridcolor": "white",
           "linecolor": "white",
           "ticks": "",
           "title": {
            "standoff": 15
           },
           "zerolinecolor": "white",
           "zerolinewidth": 2
          }
         }
        },
        "xaxis": {
         "anchor": "y",
         "domain": [
          0,
          1
         ],
         "title": {
          "text": "기초지자체명"
         }
        },
        "yaxis": {
         "anchor": "x",
         "domain": [
          0,
          1
         ],
         "title": {
          "text": "기초지자체 방문자 수"
         }
        }
       }
      },
      "text/html": [
       "<div>                            <div id=\"2e01c731-fcdd-405a-a2ee-b7cc81072490\" class=\"plotly-graph-div\" style=\"height:525px; width:100%;\"></div>            <script type=\"text/javascript\">                require([\"plotly\"], function(Plotly) {                    window.PLOTLYENV=window.PLOTLYENV || {};                                    if (document.getElementById(\"2e01c731-fcdd-405a-a2ee-b7cc81072490\")) {                    Plotly.newPlot(                        \"2e01c731-fcdd-405a-a2ee-b7cc81072490\",                        [{\"alignmentgroup\":\"True\",\"hovertemplate\":\"\\uae30\\ucd08\\uc9c0\\uc790\\uccb4\\uba85=%{x}<br>\\uae30\\ucd08\\uc9c0\\uc790\\uccb4 \\ubc29\\ubb38\\uc790 \\uc218=%{y}<extra></extra>\",\"legendgroup\":\"\",\"marker\":{\"color\":\"#636efa\",\"pattern\":{\"shape\":\"\"}},\"name\":\"\",\"offsetgroup\":\"\",\"orientation\":\"v\",\"showlegend\":false,\"textposition\":\"auto\",\"x\":[\"\\uac15\\ub0a8\\uad6c\",\"\\uc11c\\ucd08\\uad6c\",\"\\uc11c\\uc6b8\\uc2dc \\uc911\\uad6c\",\"\\uc885\\ub85c\\uad6c\",\"\\uc1a1\\ud30c\\uad6c\",\"\\ub9c8\\ud3ec\\uad6c\",\"\\uc601\\ub4f1\\ud3ec\\uad6c\",\"\\ud654\\uc131\\uc2dc\",\"\\uc131\\ub0a8\\uc2dc \\ubd84\\ub2f9\\uad6c\",\"\\uc6a9\\uc0b0\\uad6c\",\"\\uac15\\uc11c\\uad6c\",\"\\uc11c\\ub300\\ubb38\\uad6c\",\"\\uc81c\\uc8fc\\uc2dc\",\"\\ubd80\\ucc9c\\uc2dc\",\"\\ubd80\\uc0b0\\uc9c4\\uad6c\",\"\\ud574\\uc6b4\\ub300\\uad6c\",\"\\ub0a8\\uc591\\uc8fc\\uc2dc\",\"\\uace0\\uc591\\uc2dc \\ub355\\uc591\\uad6c\",\"\\uad11\\uc9c4\\uad6c\",\"\\uace0\\uc591\\uc2dc \\uc77c\\uc0b0\\ub3d9\\uad6c\"],\"xaxis\":\"x\",\"y\":[16563951.0,11467780.0,9478629.0,8900897.0,8704873.0,8083624.0,7917188.0,7307793.0,6599185.0,6536793.0,5987861.0,5831560.0,5590239.0,5486961.0,5430164.0,5386438.0,5334936.0,4897463.0,4894047.0,4793964.0],\"yaxis\":\"y\",\"type\":\"bar\"}],                        {\"template\":{\"data\":{\"bar\":[{\"error_x\":{\"color\":\"#2a3f5f\"},\"error_y\":{\"color\":\"#2a3f5f\"},\"marker\":{\"line\":{\"color\":\"#E5ECF6\",\"width\":0.5},\"pattern\":{\"fillmode\":\"overlay\",\"size\":10,\"solidity\":0.2}},\"type\":\"bar\"}],\"barpolar\":[{\"marker\":{\"line\":{\"color\":\"#E5ECF6\",\"width\":0.5},\"pattern\":{\"fillmode\":\"overlay\",\"size\":10,\"solidity\":0.2}},\"type\":\"barpolar\"}],\"carpet\":[{\"aaxis\":{\"endlinecolor\":\"#2a3f5f\",\"gridcolor\":\"white\",\"linecolor\":\"white\",\"minorgridcolor\":\"white\",\"startlinecolor\":\"#2a3f5f\"},\"baxis\":{\"endlinecolor\":\"#2a3f5f\",\"gridcolor\":\"white\",\"linecolor\":\"white\",\"minorgridcolor\":\"white\",\"startlinecolor\":\"#2a3f5f\"},\"type\":\"carpet\"}],\"choropleth\":[{\"colorbar\":{\"outlinewidth\":0,\"ticks\":\"\"},\"type\":\"choropleth\"}],\"contour\":[{\"colorbar\":{\"outlinewidth\":0,\"ticks\":\"\"},\"colorscale\":[[0.0,\"#0d0887\"],[0.1111111111111111,\"#46039f\"],[0.2222222222222222,\"#7201a8\"],[0.3333333333333333,\"#9c179e\"],[0.4444444444444444,\"#bd3786\"],[0.5555555555555556,\"#d8576b\"],[0.6666666666666666,\"#ed7953\"],[0.7777777777777778,\"#fb9f3a\"],[0.8888888888888888,\"#fdca26\"],[1.0,\"#f0f921\"]],\"type\":\"contour\"}],\"contourcarpet\":[{\"colorbar\":{\"outlinewidth\":0,\"ticks\":\"\"},\"type\":\"contourcarpet\"}],\"heatmap\":[{\"colorbar\":{\"outlinewidth\":0,\"ticks\":\"\"},\"colorscale\":[[0.0,\"#0d0887\"],[0.1111111111111111,\"#46039f\"],[0.2222222222222222,\"#7201a8\"],[0.3333333333333333,\"#9c179e\"],[0.4444444444444444,\"#bd3786\"],[0.5555555555555556,\"#d8576b\"],[0.6666666666666666,\"#ed7953\"],[0.7777777777777778,\"#fb9f3a\"],[0.8888888888888888,\"#fdca26\"],[1.0,\"#f0f921\"]],\"type\":\"heatmap\"}],\"heatmapgl\":[{\"colorbar\":{\"outlinewidth\":0,\"ticks\":\"\"},\"colorscale\":[[0.0,\"#0d0887\"],[0.1111111111111111,\"#46039f\"],[0.2222222222222222,\"#7201a8\"],[0.3333333333333333,\"#9c179e\"],[0.4444444444444444,\"#bd3786\"],[0.5555555555555556,\"#d8576b\"],[0.6666666666666666,\"#ed7953\"],[0.7777777777777778,\"#fb9f3a\"],[0.8888888888888888,\"#fdca26\"],[1.0,\"#f0f921\"]],\"type\":\"heatmapgl\"}],\"histogram\":[{\"marker\":{\"pattern\":{\"fillmode\":\"overlay\",\"size\":10,\"solidity\":0.2}},\"type\":\"histogram\"}],\"histogram2d\":[{\"colorbar\":{\"outlinewidth\":0,\"ticks\":\"\"},\"colorscale\":[[0.0,\"#0d0887\"],[0.1111111111111111,\"#46039f\"],[0.2222222222222222,\"#7201a8\"],[0.3333333333333333,\"#9c179e\"],[0.4444444444444444,\"#bd3786\"],[0.5555555555555556,\"#d8576b\"],[0.6666666666666666,\"#ed7953\"],[0.7777777777777778,\"#fb9f3a\"],[0.8888888888888888,\"#fdca26\"],[1.0,\"#f0f921\"]],\"type\":\"histogram2d\"}],\"histogram2dcontour\":[{\"colorbar\":{\"outlinewidth\":0,\"ticks\":\"\"},\"colorscale\":[[0.0,\"#0d0887\"],[0.1111111111111111,\"#46039f\"],[0.2222222222222222,\"#7201a8\"],[0.3333333333333333,\"#9c179e\"],[0.4444444444444444,\"#bd3786\"],[0.5555555555555556,\"#d8576b\"],[0.6666666666666666,\"#ed7953\"],[0.7777777777777778,\"#fb9f3a\"],[0.8888888888888888,\"#fdca26\"],[1.0,\"#f0f921\"]],\"type\":\"histogram2dcontour\"}],\"mesh3d\":[{\"colorbar\":{\"outlinewidth\":0,\"ticks\":\"\"},\"type\":\"mesh3d\"}],\"parcoords\":[{\"line\":{\"colorbar\":{\"outlinewidth\":0,\"ticks\":\"\"}},\"type\":\"parcoords\"}],\"pie\":[{\"automargin\":true,\"type\":\"pie\"}],\"scatter\":[{\"marker\":{\"colorbar\":{\"outlinewidth\":0,\"ticks\":\"\"}},\"type\":\"scatter\"}],\"scatter3d\":[{\"line\":{\"colorbar\":{\"outlinewidth\":0,\"ticks\":\"\"}},\"marker\":{\"colorbar\":{\"outlinewidth\":0,\"ticks\":\"\"}},\"type\":\"scatter3d\"}],\"scattercarpet\":[{\"marker\":{\"colorbar\":{\"outlinewidth\":0,\"ticks\":\"\"}},\"type\":\"scattercarpet\"}],\"scattergeo\":[{\"marker\":{\"colorbar\":{\"outlinewidth\":0,\"ticks\":\"\"}},\"type\":\"scattergeo\"}],\"scattergl\":[{\"marker\":{\"colorbar\":{\"outlinewidth\":0,\"ticks\":\"\"}},\"type\":\"scattergl\"}],\"scattermapbox\":[{\"marker\":{\"colorbar\":{\"outlinewidth\":0,\"ticks\":\"\"}},\"type\":\"scattermapbox\"}],\"scatterpolar\":[{\"marker\":{\"colorbar\":{\"outlinewidth\":0,\"ticks\":\"\"}},\"type\":\"scatterpolar\"}],\"scatterpolargl\":[{\"marker\":{\"colorbar\":{\"outlinewidth\":0,\"ticks\":\"\"}},\"type\":\"scatterpolargl\"}],\"scatterternary\":[{\"marker\":{\"colorbar\":{\"outlinewidth\":0,\"ticks\":\"\"}},\"type\":\"scatterternary\"}],\"surface\":[{\"colorbar\":{\"outlinewidth\":0,\"ticks\":\"\"},\"colorscale\":[[0.0,\"#0d0887\"],[0.1111111111111111,\"#46039f\"],[0.2222222222222222,\"#7201a8\"],[0.3333333333333333,\"#9c179e\"],[0.4444444444444444,\"#bd3786\"],[0.5555555555555556,\"#d8576b\"],[0.6666666666666666,\"#ed7953\"],[0.7777777777777778,\"#fb9f3a\"],[0.8888888888888888,\"#fdca26\"],[1.0,\"#f0f921\"]],\"type\":\"surface\"}],\"table\":[{\"cells\":{\"fill\":{\"color\":\"#EBF0F8\"},\"line\":{\"color\":\"white\"}},\"header\":{\"fill\":{\"color\":\"#C8D4E3\"},\"line\":{\"color\":\"white\"}},\"type\":\"table\"}]},\"layout\":{\"annotationdefaults\":{\"arrowcolor\":\"#2a3f5f\",\"arrowhead\":0,\"arrowwidth\":1},\"autotypenumbers\":\"strict\",\"coloraxis\":{\"colorbar\":{\"outlinewidth\":0,\"ticks\":\"\"}},\"colorscale\":{\"diverging\":[[0,\"#8e0152\"],[0.1,\"#c51b7d\"],[0.2,\"#de77ae\"],[0.3,\"#f1b6da\"],[0.4,\"#fde0ef\"],[0.5,\"#f7f7f7\"],[0.6,\"#e6f5d0\"],[0.7,\"#b8e186\"],[0.8,\"#7fbc41\"],[0.9,\"#4d9221\"],[1,\"#276419\"]],\"sequential\":[[0.0,\"#0d0887\"],[0.1111111111111111,\"#46039f\"],[0.2222222222222222,\"#7201a8\"],[0.3333333333333333,\"#9c179e\"],[0.4444444444444444,\"#bd3786\"],[0.5555555555555556,\"#d8576b\"],[0.6666666666666666,\"#ed7953\"],[0.7777777777777778,\"#fb9f3a\"],[0.8888888888888888,\"#fdca26\"],[1.0,\"#f0f921\"]],\"sequentialminus\":[[0.0,\"#0d0887\"],[0.1111111111111111,\"#46039f\"],[0.2222222222222222,\"#7201a8\"],[0.3333333333333333,\"#9c179e\"],[0.4444444444444444,\"#bd3786\"],[0.5555555555555556,\"#d8576b\"],[0.6666666666666666,\"#ed7953\"],[0.7777777777777778,\"#fb9f3a\"],[0.8888888888888888,\"#fdca26\"],[1.0,\"#f0f921\"]]},\"colorway\":[\"#636efa\",\"#EF553B\",\"#00cc96\",\"#ab63fa\",\"#FFA15A\",\"#19d3f3\",\"#FF6692\",\"#B6E880\",\"#FF97FF\",\"#FECB52\"],\"font\":{\"color\":\"#2a3f5f\"},\"geo\":{\"bgcolor\":\"white\",\"lakecolor\":\"white\",\"landcolor\":\"#E5ECF6\",\"showlakes\":true,\"showland\":true,\"subunitcolor\":\"white\"},\"hoverlabel\":{\"align\":\"left\"},\"hovermode\":\"closest\",\"mapbox\":{\"style\":\"light\"},\"paper_bgcolor\":\"white\",\"plot_bgcolor\":\"#E5ECF6\",\"polar\":{\"angularaxis\":{\"gridcolor\":\"white\",\"linecolor\":\"white\",\"ticks\":\"\"},\"bgcolor\":\"#E5ECF6\",\"radialaxis\":{\"gridcolor\":\"white\",\"linecolor\":\"white\",\"ticks\":\"\"}},\"scene\":{\"xaxis\":{\"backgroundcolor\":\"#E5ECF6\",\"gridcolor\":\"white\",\"gridwidth\":2,\"linecolor\":\"white\",\"showbackground\":true,\"ticks\":\"\",\"zerolinecolor\":\"white\"},\"yaxis\":{\"backgroundcolor\":\"#E5ECF6\",\"gridcolor\":\"white\",\"gridwidth\":2,\"linecolor\":\"white\",\"showbackground\":true,\"ticks\":\"\",\"zerolinecolor\":\"white\"},\"zaxis\":{\"backgroundcolor\":\"#E5ECF6\",\"gridcolor\":\"white\",\"gridwidth\":2,\"linecolor\":\"white\",\"showbackground\":true,\"ticks\":\"\",\"zerolinecolor\":\"white\"}},\"shapedefaults\":{\"line\":{\"color\":\"#2a3f5f\"}},\"ternary\":{\"aaxis\":{\"gridcolor\":\"white\",\"linecolor\":\"white\",\"ticks\":\"\"},\"baxis\":{\"gridcolor\":\"white\",\"linecolor\":\"white\",\"ticks\":\"\"},\"bgcolor\":\"#E5ECF6\",\"caxis\":{\"gridcolor\":\"white\",\"linecolor\":\"white\",\"ticks\":\"\"}},\"title\":{\"x\":0.05},\"xaxis\":{\"automargin\":true,\"gridcolor\":\"white\",\"linecolor\":\"white\",\"ticks\":\"\",\"title\":{\"standoff\":15},\"zerolinecolor\":\"white\",\"zerolinewidth\":2},\"yaxis\":{\"automargin\":true,\"gridcolor\":\"white\",\"linecolor\":\"white\",\"ticks\":\"\",\"title\":{\"standoff\":15},\"zerolinecolor\":\"white\",\"zerolinewidth\":2}}},\"xaxis\":{\"anchor\":\"y\",\"domain\":[0.0,1.0],\"title\":{\"text\":\"\\uae30\\ucd08\\uc9c0\\uc790\\uccb4\\uba85\"}},\"yaxis\":{\"anchor\":\"x\",\"domain\":[0.0,1.0],\"title\":{\"text\":\"\\uae30\\ucd08\\uc9c0\\uc790\\uccb4 \\ubc29\\ubb38\\uc790 \\uc218\"}},\"legend\":{\"tracegroupgap\":0},\"margin\":{\"t\":60},\"barmode\":\"relative\"},                        {\"responsive\": true}                    ).then(function(){\n",
       "                            \n",
       "var gd = document.getElementById('2e01c731-fcdd-405a-a2ee-b7cc81072490');\n",
       "var x = new MutationObserver(function (mutations, observer) {{\n",
       "        var display = window.getComputedStyle(gd).display;\n",
       "        if (!display || display === 'none') {{\n",
       "            console.log([gd, 'removed!']);\n",
       "            Plotly.purge(gd);\n",
       "            observer.disconnect();\n",
       "        }}\n",
       "}});\n",
       "\n",
       "// Listen for the removal of the full notebook cells\n",
       "var notebookContainer = gd.closest('#notebook-container');\n",
       "if (notebookContainer) {{\n",
       "    x.observe(notebookContainer, {childList: true});\n",
       "}}\n",
       "\n",
       "// Listen for the clearing of the current output cell\n",
       "var outputEl = gd.closest('.output');\n",
       "if (outputEl) {{\n",
       "    x.observe(outputEl, {childList: true});\n",
       "}}\n",
       "\n",
       "                        })                };                });            </script>        </div>"
      ]
     },
     "metadata": {},
     "output_type": "display_data"
    }
   ],
   "source": [
    "px.bar(df_1.loc[:19], x = '기초지자체명', y = '기초지자체 방문자 수')"
   ]
  },
  {
   "cell_type": "code",
   "execution_count": 100,
   "id": "92f51ce8",
   "metadata": {},
   "outputs": [
    {
     "data": {
      "application/vnd.plotly.v1+json": {
       "config": {
        "plotlyServerURL": "https://plot.ly"
       },
       "data": [
        {
         "domain": {
          "x": [
           0,
           1
          ],
          "y": [
           0,
           1
          ]
         },
         "hole": 0.4,
         "hovertemplate": "기초지자체명=%{label}<br>기초지자체 방문자 수=%{value}<extra></extra>",
         "labels": [
          "강남구",
          "서초구",
          "서울시 중구",
          "종로구",
          "송파구",
          "마포구",
          "영등포구",
          "용산구",
          "화성시",
          "성남시 분당구",
          "서대문구",
          "강서구",
          "부산진구",
          "부천시",
          "해운대구",
          "광진구",
          "대구시 중구",
          "수원시 팔달구",
          "남양주시",
          "구로구"
         ],
         "legendgroup": "",
         "name": "",
         "showlegend": true,
         "type": "pie",
         "values": [
          18959450,
          13538753,
          12298380,
          11266919,
          10526152,
          9812722,
          9270251,
          8207881,
          7597732,
          7252636,
          6942565,
          6426137,
          6142012,
          5858187,
          5797922,
          5520108,
          5464250,
          5362280,
          5326585,
          5192679
         ]
        }
       ],
       "layout": {
        "legend": {
         "tracegroupgap": 0
        },
        "margin": {
         "t": 60
        },
        "template": {
         "data": {
          "bar": [
           {
            "error_x": {
             "color": "#2a3f5f"
            },
            "error_y": {
             "color": "#2a3f5f"
            },
            "marker": {
             "line": {
              "color": "#E5ECF6",
              "width": 0.5
             },
             "pattern": {
              "fillmode": "overlay",
              "size": 10,
              "solidity": 0.2
             }
            },
            "type": "bar"
           }
          ],
          "barpolar": [
           {
            "marker": {
             "line": {
              "color": "#E5ECF6",
              "width": 0.5
             },
             "pattern": {
              "fillmode": "overlay",
              "size": 10,
              "solidity": 0.2
             }
            },
            "type": "barpolar"
           }
          ],
          "carpet": [
           {
            "aaxis": {
             "endlinecolor": "#2a3f5f",
             "gridcolor": "white",
             "linecolor": "white",
             "minorgridcolor": "white",
             "startlinecolor": "#2a3f5f"
            },
            "baxis": {
             "endlinecolor": "#2a3f5f",
             "gridcolor": "white",
             "linecolor": "white",
             "minorgridcolor": "white",
             "startlinecolor": "#2a3f5f"
            },
            "type": "carpet"
           }
          ],
          "choropleth": [
           {
            "colorbar": {
             "outlinewidth": 0,
             "ticks": ""
            },
            "type": "choropleth"
           }
          ],
          "contour": [
           {
            "colorbar": {
             "outlinewidth": 0,
             "ticks": ""
            },
            "colorscale": [
             [
              0,
              "#0d0887"
             ],
             [
              0.1111111111111111,
              "#46039f"
             ],
             [
              0.2222222222222222,
              "#7201a8"
             ],
             [
              0.3333333333333333,
              "#9c179e"
             ],
             [
              0.4444444444444444,
              "#bd3786"
             ],
             [
              0.5555555555555556,
              "#d8576b"
             ],
             [
              0.6666666666666666,
              "#ed7953"
             ],
             [
              0.7777777777777778,
              "#fb9f3a"
             ],
             [
              0.8888888888888888,
              "#fdca26"
             ],
             [
              1,
              "#f0f921"
             ]
            ],
            "type": "contour"
           }
          ],
          "contourcarpet": [
           {
            "colorbar": {
             "outlinewidth": 0,
             "ticks": ""
            },
            "type": "contourcarpet"
           }
          ],
          "heatmap": [
           {
            "colorbar": {
             "outlinewidth": 0,
             "ticks": ""
            },
            "colorscale": [
             [
              0,
              "#0d0887"
             ],
             [
              0.1111111111111111,
              "#46039f"
             ],
             [
              0.2222222222222222,
              "#7201a8"
             ],
             [
              0.3333333333333333,
              "#9c179e"
             ],
             [
              0.4444444444444444,
              "#bd3786"
             ],
             [
              0.5555555555555556,
              "#d8576b"
             ],
             [
              0.6666666666666666,
              "#ed7953"
             ],
             [
              0.7777777777777778,
              "#fb9f3a"
             ],
             [
              0.8888888888888888,
              "#fdca26"
             ],
             [
              1,
              "#f0f921"
             ]
            ],
            "type": "heatmap"
           }
          ],
          "heatmapgl": [
           {
            "colorbar": {
             "outlinewidth": 0,
             "ticks": ""
            },
            "colorscale": [
             [
              0,
              "#0d0887"
             ],
             [
              0.1111111111111111,
              "#46039f"
             ],
             [
              0.2222222222222222,
              "#7201a8"
             ],
             [
              0.3333333333333333,
              "#9c179e"
             ],
             [
              0.4444444444444444,
              "#bd3786"
             ],
             [
              0.5555555555555556,
              "#d8576b"
             ],
             [
              0.6666666666666666,
              "#ed7953"
             ],
             [
              0.7777777777777778,
              "#fb9f3a"
             ],
             [
              0.8888888888888888,
              "#fdca26"
             ],
             [
              1,
              "#f0f921"
             ]
            ],
            "type": "heatmapgl"
           }
          ],
          "histogram": [
           {
            "marker": {
             "pattern": {
              "fillmode": "overlay",
              "size": 10,
              "solidity": 0.2
             }
            },
            "type": "histogram"
           }
          ],
          "histogram2d": [
           {
            "colorbar": {
             "outlinewidth": 0,
             "ticks": ""
            },
            "colorscale": [
             [
              0,
              "#0d0887"
             ],
             [
              0.1111111111111111,
              "#46039f"
             ],
             [
              0.2222222222222222,
              "#7201a8"
             ],
             [
              0.3333333333333333,
              "#9c179e"
             ],
             [
              0.4444444444444444,
              "#bd3786"
             ],
             [
              0.5555555555555556,
              "#d8576b"
             ],
             [
              0.6666666666666666,
              "#ed7953"
             ],
             [
              0.7777777777777778,
              "#fb9f3a"
             ],
             [
              0.8888888888888888,
              "#fdca26"
             ],
             [
              1,
              "#f0f921"
             ]
            ],
            "type": "histogram2d"
           }
          ],
          "histogram2dcontour": [
           {
            "colorbar": {
             "outlinewidth": 0,
             "ticks": ""
            },
            "colorscale": [
             [
              0,
              "#0d0887"
             ],
             [
              0.1111111111111111,
              "#46039f"
             ],
             [
              0.2222222222222222,
              "#7201a8"
             ],
             [
              0.3333333333333333,
              "#9c179e"
             ],
             [
              0.4444444444444444,
              "#bd3786"
             ],
             [
              0.5555555555555556,
              "#d8576b"
             ],
             [
              0.6666666666666666,
              "#ed7953"
             ],
             [
              0.7777777777777778,
              "#fb9f3a"
             ],
             [
              0.8888888888888888,
              "#fdca26"
             ],
             [
              1,
              "#f0f921"
             ]
            ],
            "type": "histogram2dcontour"
           }
          ],
          "mesh3d": [
           {
            "colorbar": {
             "outlinewidth": 0,
             "ticks": ""
            },
            "type": "mesh3d"
           }
          ],
          "parcoords": [
           {
            "line": {
             "colorbar": {
              "outlinewidth": 0,
              "ticks": ""
             }
            },
            "type": "parcoords"
           }
          ],
          "pie": [
           {
            "automargin": true,
            "type": "pie"
           }
          ],
          "scatter": [
           {
            "marker": {
             "colorbar": {
              "outlinewidth": 0,
              "ticks": ""
             }
            },
            "type": "scatter"
           }
          ],
          "scatter3d": [
           {
            "line": {
             "colorbar": {
              "outlinewidth": 0,
              "ticks": ""
             }
            },
            "marker": {
             "colorbar": {
              "outlinewidth": 0,
              "ticks": ""
             }
            },
            "type": "scatter3d"
           }
          ],
          "scattercarpet": [
           {
            "marker": {
             "colorbar": {
              "outlinewidth": 0,
              "ticks": ""
             }
            },
            "type": "scattercarpet"
           }
          ],
          "scattergeo": [
           {
            "marker": {
             "colorbar": {
              "outlinewidth": 0,
              "ticks": ""
             }
            },
            "type": "scattergeo"
           }
          ],
          "scattergl": [
           {
            "marker": {
             "colorbar": {
              "outlinewidth": 0,
              "ticks": ""
             }
            },
            "type": "scattergl"
           }
          ],
          "scattermapbox": [
           {
            "marker": {
             "colorbar": {
              "outlinewidth": 0,
              "ticks": ""
             }
            },
            "type": "scattermapbox"
           }
          ],
          "scatterpolar": [
           {
            "marker": {
             "colorbar": {
              "outlinewidth": 0,
              "ticks": ""
             }
            },
            "type": "scatterpolar"
           }
          ],
          "scatterpolargl": [
           {
            "marker": {
             "colorbar": {
              "outlinewidth": 0,
              "ticks": ""
             }
            },
            "type": "scatterpolargl"
           }
          ],
          "scatterternary": [
           {
            "marker": {
             "colorbar": {
              "outlinewidth": 0,
              "ticks": ""
             }
            },
            "type": "scatterternary"
           }
          ],
          "surface": [
           {
            "colorbar": {
             "outlinewidth": 0,
             "ticks": ""
            },
            "colorscale": [
             [
              0,
              "#0d0887"
             ],
             [
              0.1111111111111111,
              "#46039f"
             ],
             [
              0.2222222222222222,
              "#7201a8"
             ],
             [
              0.3333333333333333,
              "#9c179e"
             ],
             [
              0.4444444444444444,
              "#bd3786"
             ],
             [
              0.5555555555555556,
              "#d8576b"
             ],
             [
              0.6666666666666666,
              "#ed7953"
             ],
             [
              0.7777777777777778,
              "#fb9f3a"
             ],
             [
              0.8888888888888888,
              "#fdca26"
             ],
             [
              1,
              "#f0f921"
             ]
            ],
            "type": "surface"
           }
          ],
          "table": [
           {
            "cells": {
             "fill": {
              "color": "#EBF0F8"
             },
             "line": {
              "color": "white"
             }
            },
            "header": {
             "fill": {
              "color": "#C8D4E3"
             },
             "line": {
              "color": "white"
             }
            },
            "type": "table"
           }
          ]
         },
         "layout": {
          "annotationdefaults": {
           "arrowcolor": "#2a3f5f",
           "arrowhead": 0,
           "arrowwidth": 1
          },
          "autotypenumbers": "strict",
          "coloraxis": {
           "colorbar": {
            "outlinewidth": 0,
            "ticks": ""
           }
          },
          "colorscale": {
           "diverging": [
            [
             0,
             "#8e0152"
            ],
            [
             0.1,
             "#c51b7d"
            ],
            [
             0.2,
             "#de77ae"
            ],
            [
             0.3,
             "#f1b6da"
            ],
            [
             0.4,
             "#fde0ef"
            ],
            [
             0.5,
             "#f7f7f7"
            ],
            [
             0.6,
             "#e6f5d0"
            ],
            [
             0.7,
             "#b8e186"
            ],
            [
             0.8,
             "#7fbc41"
            ],
            [
             0.9,
             "#4d9221"
            ],
            [
             1,
             "#276419"
            ]
           ],
           "sequential": [
            [
             0,
             "#0d0887"
            ],
            [
             0.1111111111111111,
             "#46039f"
            ],
            [
             0.2222222222222222,
             "#7201a8"
            ],
            [
             0.3333333333333333,
             "#9c179e"
            ],
            [
             0.4444444444444444,
             "#bd3786"
            ],
            [
             0.5555555555555556,
             "#d8576b"
            ],
            [
             0.6666666666666666,
             "#ed7953"
            ],
            [
             0.7777777777777778,
             "#fb9f3a"
            ],
            [
             0.8888888888888888,
             "#fdca26"
            ],
            [
             1,
             "#f0f921"
            ]
           ],
           "sequentialminus": [
            [
             0,
             "#0d0887"
            ],
            [
             0.1111111111111111,
             "#46039f"
            ],
            [
             0.2222222222222222,
             "#7201a8"
            ],
            [
             0.3333333333333333,
             "#9c179e"
            ],
            [
             0.4444444444444444,
             "#bd3786"
            ],
            [
             0.5555555555555556,
             "#d8576b"
            ],
            [
             0.6666666666666666,
             "#ed7953"
            ],
            [
             0.7777777777777778,
             "#fb9f3a"
            ],
            [
             0.8888888888888888,
             "#fdca26"
            ],
            [
             1,
             "#f0f921"
            ]
           ]
          },
          "colorway": [
           "#636efa",
           "#EF553B",
           "#00cc96",
           "#ab63fa",
           "#FFA15A",
           "#19d3f3",
           "#FF6692",
           "#B6E880",
           "#FF97FF",
           "#FECB52"
          ],
          "font": {
           "color": "#2a3f5f"
          },
          "geo": {
           "bgcolor": "white",
           "lakecolor": "white",
           "landcolor": "#E5ECF6",
           "showlakes": true,
           "showland": true,
           "subunitcolor": "white"
          },
          "hoverlabel": {
           "align": "left"
          },
          "hovermode": "closest",
          "mapbox": {
           "style": "light"
          },
          "paper_bgcolor": "white",
          "plot_bgcolor": "#E5ECF6",
          "polar": {
           "angularaxis": {
            "gridcolor": "white",
            "linecolor": "white",
            "ticks": ""
           },
           "bgcolor": "#E5ECF6",
           "radialaxis": {
            "gridcolor": "white",
            "linecolor": "white",
            "ticks": ""
           }
          },
          "scene": {
           "xaxis": {
            "backgroundcolor": "#E5ECF6",
            "gridcolor": "white",
            "gridwidth": 2,
            "linecolor": "white",
            "showbackground": true,
            "ticks": "",
            "zerolinecolor": "white"
           },
           "yaxis": {
            "backgroundcolor": "#E5ECF6",
            "gridcolor": "white",
            "gridwidth": 2,
            "linecolor": "white",
            "showbackground": true,
            "ticks": "",
            "zerolinecolor": "white"
           },
           "zaxis": {
            "backgroundcolor": "#E5ECF6",
            "gridcolor": "white",
            "gridwidth": 2,
            "linecolor": "white",
            "showbackground": true,
            "ticks": "",
            "zerolinecolor": "white"
           }
          },
          "shapedefaults": {
           "line": {
            "color": "#2a3f5f"
           }
          },
          "ternary": {
           "aaxis": {
            "gridcolor": "white",
            "linecolor": "white",
            "ticks": ""
           },
           "baxis": {
            "gridcolor": "white",
            "linecolor": "white",
            "ticks": ""
           },
           "bgcolor": "#E5ECF6",
           "caxis": {
            "gridcolor": "white",
            "linecolor": "white",
            "ticks": ""
           }
          },
          "title": {
           "x": 0.05
          },
          "xaxis": {
           "automargin": true,
           "gridcolor": "white",
           "linecolor": "white",
           "ticks": "",
           "title": {
            "standoff": 15
           },
           "zerolinecolor": "white",
           "zerolinewidth": 2
          },
          "yaxis": {
           "automargin": true,
           "gridcolor": "white",
           "linecolor": "white",
           "ticks": "",
           "title": {
            "standoff": 15
           },
           "zerolinecolor": "white",
           "zerolinewidth": 2
          }
         }
        }
       }
      },
      "text/html": [
       "<div>                            <div id=\"81199b85-8fe5-448a-9050-c0ea846976f8\" class=\"plotly-graph-div\" style=\"height:525px; width:100%;\"></div>            <script type=\"text/javascript\">                require([\"plotly\"], function(Plotly) {                    window.PLOTLYENV=window.PLOTLYENV || {};                                    if (document.getElementById(\"81199b85-8fe5-448a-9050-c0ea846976f8\")) {                    Plotly.newPlot(                        \"81199b85-8fe5-448a-9050-c0ea846976f8\",                        [{\"domain\":{\"x\":[0.0,1.0],\"y\":[0.0,1.0]},\"hole\":0.4,\"hovertemplate\":\"\\uae30\\ucd08\\uc9c0\\uc790\\uccb4\\uba85=%{label}<br>\\uae30\\ucd08\\uc9c0\\uc790\\uccb4 \\ubc29\\ubb38\\uc790 \\uc218=%{value}<extra></extra>\",\"labels\":[\"\\uac15\\ub0a8\\uad6c\",\"\\uc11c\\ucd08\\uad6c\",\"\\uc11c\\uc6b8\\uc2dc \\uc911\\uad6c\",\"\\uc885\\ub85c\\uad6c\",\"\\uc1a1\\ud30c\\uad6c\",\"\\ub9c8\\ud3ec\\uad6c\",\"\\uc601\\ub4f1\\ud3ec\\uad6c\",\"\\uc6a9\\uc0b0\\uad6c\",\"\\ud654\\uc131\\uc2dc\",\"\\uc131\\ub0a8\\uc2dc \\ubd84\\ub2f9\\uad6c\",\"\\uc11c\\ub300\\ubb38\\uad6c\",\"\\uac15\\uc11c\\uad6c\",\"\\ubd80\\uc0b0\\uc9c4\\uad6c\",\"\\ubd80\\ucc9c\\uc2dc\",\"\\ud574\\uc6b4\\ub300\\uad6c\",\"\\uad11\\uc9c4\\uad6c\",\"\\ub300\\uad6c\\uc2dc \\uc911\\uad6c\",\"\\uc218\\uc6d0\\uc2dc \\ud314\\ub2ec\\uad6c\",\"\\ub0a8\\uc591\\uc8fc\\uc2dc\",\"\\uad6c\\ub85c\\uad6c\"],\"legendgroup\":\"\",\"name\":\"\",\"showlegend\":true,\"values\":[18959450.0,13538753.0,12298380.0,11266919.0,10526152.0,9812722.0,9270251.0,8207881.0,7597732.0,7252636.0,6942565.0,6426137.0,6142012.0,5858187.0,5797922.0,5520108.0,5464250.0,5362280.0,5326585.0,5192679.0],\"type\":\"pie\"}],                        {\"template\":{\"data\":{\"bar\":[{\"error_x\":{\"color\":\"#2a3f5f\"},\"error_y\":{\"color\":\"#2a3f5f\"},\"marker\":{\"line\":{\"color\":\"#E5ECF6\",\"width\":0.5},\"pattern\":{\"fillmode\":\"overlay\",\"size\":10,\"solidity\":0.2}},\"type\":\"bar\"}],\"barpolar\":[{\"marker\":{\"line\":{\"color\":\"#E5ECF6\",\"width\":0.5},\"pattern\":{\"fillmode\":\"overlay\",\"size\":10,\"solidity\":0.2}},\"type\":\"barpolar\"}],\"carpet\":[{\"aaxis\":{\"endlinecolor\":\"#2a3f5f\",\"gridcolor\":\"white\",\"linecolor\":\"white\",\"minorgridcolor\":\"white\",\"startlinecolor\":\"#2a3f5f\"},\"baxis\":{\"endlinecolor\":\"#2a3f5f\",\"gridcolor\":\"white\",\"linecolor\":\"white\",\"minorgridcolor\":\"white\",\"startlinecolor\":\"#2a3f5f\"},\"type\":\"carpet\"}],\"choropleth\":[{\"colorbar\":{\"outlinewidth\":0,\"ticks\":\"\"},\"type\":\"choropleth\"}],\"contour\":[{\"colorbar\":{\"outlinewidth\":0,\"ticks\":\"\"},\"colorscale\":[[0.0,\"#0d0887\"],[0.1111111111111111,\"#46039f\"],[0.2222222222222222,\"#7201a8\"],[0.3333333333333333,\"#9c179e\"],[0.4444444444444444,\"#bd3786\"],[0.5555555555555556,\"#d8576b\"],[0.6666666666666666,\"#ed7953\"],[0.7777777777777778,\"#fb9f3a\"],[0.8888888888888888,\"#fdca26\"],[1.0,\"#f0f921\"]],\"type\":\"contour\"}],\"contourcarpet\":[{\"colorbar\":{\"outlinewidth\":0,\"ticks\":\"\"},\"type\":\"contourcarpet\"}],\"heatmap\":[{\"colorbar\":{\"outlinewidth\":0,\"ticks\":\"\"},\"colorscale\":[[0.0,\"#0d0887\"],[0.1111111111111111,\"#46039f\"],[0.2222222222222222,\"#7201a8\"],[0.3333333333333333,\"#9c179e\"],[0.4444444444444444,\"#bd3786\"],[0.5555555555555556,\"#d8576b\"],[0.6666666666666666,\"#ed7953\"],[0.7777777777777778,\"#fb9f3a\"],[0.8888888888888888,\"#fdca26\"],[1.0,\"#f0f921\"]],\"type\":\"heatmap\"}],\"heatmapgl\":[{\"colorbar\":{\"outlinewidth\":0,\"ticks\":\"\"},\"colorscale\":[[0.0,\"#0d0887\"],[0.1111111111111111,\"#46039f\"],[0.2222222222222222,\"#7201a8\"],[0.3333333333333333,\"#9c179e\"],[0.4444444444444444,\"#bd3786\"],[0.5555555555555556,\"#d8576b\"],[0.6666666666666666,\"#ed7953\"],[0.7777777777777778,\"#fb9f3a\"],[0.8888888888888888,\"#fdca26\"],[1.0,\"#f0f921\"]],\"type\":\"heatmapgl\"}],\"histogram\":[{\"marker\":{\"pattern\":{\"fillmode\":\"overlay\",\"size\":10,\"solidity\":0.2}},\"type\":\"histogram\"}],\"histogram2d\":[{\"colorbar\":{\"outlinewidth\":0,\"ticks\":\"\"},\"colorscale\":[[0.0,\"#0d0887\"],[0.1111111111111111,\"#46039f\"],[0.2222222222222222,\"#7201a8\"],[0.3333333333333333,\"#9c179e\"],[0.4444444444444444,\"#bd3786\"],[0.5555555555555556,\"#d8576b\"],[0.6666666666666666,\"#ed7953\"],[0.7777777777777778,\"#fb9f3a\"],[0.8888888888888888,\"#fdca26\"],[1.0,\"#f0f921\"]],\"type\":\"histogram2d\"}],\"histogram2dcontour\":[{\"colorbar\":{\"outlinewidth\":0,\"ticks\":\"\"},\"colorscale\":[[0.0,\"#0d0887\"],[0.1111111111111111,\"#46039f\"],[0.2222222222222222,\"#7201a8\"],[0.3333333333333333,\"#9c179e\"],[0.4444444444444444,\"#bd3786\"],[0.5555555555555556,\"#d8576b\"],[0.6666666666666666,\"#ed7953\"],[0.7777777777777778,\"#fb9f3a\"],[0.8888888888888888,\"#fdca26\"],[1.0,\"#f0f921\"]],\"type\":\"histogram2dcontour\"}],\"mesh3d\":[{\"colorbar\":{\"outlinewidth\":0,\"ticks\":\"\"},\"type\":\"mesh3d\"}],\"parcoords\":[{\"line\":{\"colorbar\":{\"outlinewidth\":0,\"ticks\":\"\"}},\"type\":\"parcoords\"}],\"pie\":[{\"automargin\":true,\"type\":\"pie\"}],\"scatter\":[{\"marker\":{\"colorbar\":{\"outlinewidth\":0,\"ticks\":\"\"}},\"type\":\"scatter\"}],\"scatter3d\":[{\"line\":{\"colorbar\":{\"outlinewidth\":0,\"ticks\":\"\"}},\"marker\":{\"colorbar\":{\"outlinewidth\":0,\"ticks\":\"\"}},\"type\":\"scatter3d\"}],\"scattercarpet\":[{\"marker\":{\"colorbar\":{\"outlinewidth\":0,\"ticks\":\"\"}},\"type\":\"scattercarpet\"}],\"scattergeo\":[{\"marker\":{\"colorbar\":{\"outlinewidth\":0,\"ticks\":\"\"}},\"type\":\"scattergeo\"}],\"scattergl\":[{\"marker\":{\"colorbar\":{\"outlinewidth\":0,\"ticks\":\"\"}},\"type\":\"scattergl\"}],\"scattermapbox\":[{\"marker\":{\"colorbar\":{\"outlinewidth\":0,\"ticks\":\"\"}},\"type\":\"scattermapbox\"}],\"scatterpolar\":[{\"marker\":{\"colorbar\":{\"outlinewidth\":0,\"ticks\":\"\"}},\"type\":\"scatterpolar\"}],\"scatterpolargl\":[{\"marker\":{\"colorbar\":{\"outlinewidth\":0,\"ticks\":\"\"}},\"type\":\"scatterpolargl\"}],\"scatterternary\":[{\"marker\":{\"colorbar\":{\"outlinewidth\":0,\"ticks\":\"\"}},\"type\":\"scatterternary\"}],\"surface\":[{\"colorbar\":{\"outlinewidth\":0,\"ticks\":\"\"},\"colorscale\":[[0.0,\"#0d0887\"],[0.1111111111111111,\"#46039f\"],[0.2222222222222222,\"#7201a8\"],[0.3333333333333333,\"#9c179e\"],[0.4444444444444444,\"#bd3786\"],[0.5555555555555556,\"#d8576b\"],[0.6666666666666666,\"#ed7953\"],[0.7777777777777778,\"#fb9f3a\"],[0.8888888888888888,\"#fdca26\"],[1.0,\"#f0f921\"]],\"type\":\"surface\"}],\"table\":[{\"cells\":{\"fill\":{\"color\":\"#EBF0F8\"},\"line\":{\"color\":\"white\"}},\"header\":{\"fill\":{\"color\":\"#C8D4E3\"},\"line\":{\"color\":\"white\"}},\"type\":\"table\"}]},\"layout\":{\"annotationdefaults\":{\"arrowcolor\":\"#2a3f5f\",\"arrowhead\":0,\"arrowwidth\":1},\"autotypenumbers\":\"strict\",\"coloraxis\":{\"colorbar\":{\"outlinewidth\":0,\"ticks\":\"\"}},\"colorscale\":{\"diverging\":[[0,\"#8e0152\"],[0.1,\"#c51b7d\"],[0.2,\"#de77ae\"],[0.3,\"#f1b6da\"],[0.4,\"#fde0ef\"],[0.5,\"#f7f7f7\"],[0.6,\"#e6f5d0\"],[0.7,\"#b8e186\"],[0.8,\"#7fbc41\"],[0.9,\"#4d9221\"],[1,\"#276419\"]],\"sequential\":[[0.0,\"#0d0887\"],[0.1111111111111111,\"#46039f\"],[0.2222222222222222,\"#7201a8\"],[0.3333333333333333,\"#9c179e\"],[0.4444444444444444,\"#bd3786\"],[0.5555555555555556,\"#d8576b\"],[0.6666666666666666,\"#ed7953\"],[0.7777777777777778,\"#fb9f3a\"],[0.8888888888888888,\"#fdca26\"],[1.0,\"#f0f921\"]],\"sequentialminus\":[[0.0,\"#0d0887\"],[0.1111111111111111,\"#46039f\"],[0.2222222222222222,\"#7201a8\"],[0.3333333333333333,\"#9c179e\"],[0.4444444444444444,\"#bd3786\"],[0.5555555555555556,\"#d8576b\"],[0.6666666666666666,\"#ed7953\"],[0.7777777777777778,\"#fb9f3a\"],[0.8888888888888888,\"#fdca26\"],[1.0,\"#f0f921\"]]},\"colorway\":[\"#636efa\",\"#EF553B\",\"#00cc96\",\"#ab63fa\",\"#FFA15A\",\"#19d3f3\",\"#FF6692\",\"#B6E880\",\"#FF97FF\",\"#FECB52\"],\"font\":{\"color\":\"#2a3f5f\"},\"geo\":{\"bgcolor\":\"white\",\"lakecolor\":\"white\",\"landcolor\":\"#E5ECF6\",\"showlakes\":true,\"showland\":true,\"subunitcolor\":\"white\"},\"hoverlabel\":{\"align\":\"left\"},\"hovermode\":\"closest\",\"mapbox\":{\"style\":\"light\"},\"paper_bgcolor\":\"white\",\"plot_bgcolor\":\"#E5ECF6\",\"polar\":{\"angularaxis\":{\"gridcolor\":\"white\",\"linecolor\":\"white\",\"ticks\":\"\"},\"bgcolor\":\"#E5ECF6\",\"radialaxis\":{\"gridcolor\":\"white\",\"linecolor\":\"white\",\"ticks\":\"\"}},\"scene\":{\"xaxis\":{\"backgroundcolor\":\"#E5ECF6\",\"gridcolor\":\"white\",\"gridwidth\":2,\"linecolor\":\"white\",\"showbackground\":true,\"ticks\":\"\",\"zerolinecolor\":\"white\"},\"yaxis\":{\"backgroundcolor\":\"#E5ECF6\",\"gridcolor\":\"white\",\"gridwidth\":2,\"linecolor\":\"white\",\"showbackground\":true,\"ticks\":\"\",\"zerolinecolor\":\"white\"},\"zaxis\":{\"backgroundcolor\":\"#E5ECF6\",\"gridcolor\":\"white\",\"gridwidth\":2,\"linecolor\":\"white\",\"showbackground\":true,\"ticks\":\"\",\"zerolinecolor\":\"white\"}},\"shapedefaults\":{\"line\":{\"color\":\"#2a3f5f\"}},\"ternary\":{\"aaxis\":{\"gridcolor\":\"white\",\"linecolor\":\"white\",\"ticks\":\"\"},\"baxis\":{\"gridcolor\":\"white\",\"linecolor\":\"white\",\"ticks\":\"\"},\"bgcolor\":\"#E5ECF6\",\"caxis\":{\"gridcolor\":\"white\",\"linecolor\":\"white\",\"ticks\":\"\"}},\"title\":{\"x\":0.05},\"xaxis\":{\"automargin\":true,\"gridcolor\":\"white\",\"linecolor\":\"white\",\"ticks\":\"\",\"title\":{\"standoff\":15},\"zerolinecolor\":\"white\",\"zerolinewidth\":2},\"yaxis\":{\"automargin\":true,\"gridcolor\":\"white\",\"linecolor\":\"white\",\"ticks\":\"\",\"title\":{\"standoff\":15},\"zerolinecolor\":\"white\",\"zerolinewidth\":2}}},\"legend\":{\"tracegroupgap\":0},\"margin\":{\"t\":60}},                        {\"responsive\": true}                    ).then(function(){\n",
       "                            \n",
       "var gd = document.getElementById('81199b85-8fe5-448a-9050-c0ea846976f8');\n",
       "var x = new MutationObserver(function (mutations, observer) {{\n",
       "        var display = window.getComputedStyle(gd).display;\n",
       "        if (!display || display === 'none') {{\n",
       "            console.log([gd, 'removed!']);\n",
       "            Plotly.purge(gd);\n",
       "            observer.disconnect();\n",
       "        }}\n",
       "}});\n",
       "\n",
       "// Listen for the removal of the full notebook cells\n",
       "var notebookContainer = gd.closest('#notebook-container');\n",
       "if (notebookContainer) {{\n",
       "    x.observe(notebookContainer, {childList: true});\n",
       "}}\n",
       "\n",
       "// Listen for the clearing of the current output cell\n",
       "var outputEl = gd.closest('.output');\n",
       "if (outputEl) {{\n",
       "    x.observe(outputEl, {childList: true});\n",
       "}}\n",
       "\n",
       "                        })                };                });            </script>        </div>"
      ]
     },
     "metadata": {},
     "output_type": "display_data"
    }
   ],
   "source": [
    "px.pie(df_12.loc[:19], names = '기초지자체명', values = '기초지자체 방문자 수', hole = 0.4)"
   ]
  },
  {
   "cell_type": "code",
   "execution_count": null,
   "id": "4d46502f",
   "metadata": {},
   "outputs": [],
   "source": []
  },
  {
   "cell_type": "code",
   "execution_count": null,
   "id": "b78f693b",
   "metadata": {},
   "outputs": [],
   "source": []
  },
  {
   "cell_type": "code",
   "execution_count": null,
   "id": "4b5d255d",
   "metadata": {},
   "outputs": [],
   "source": []
  },
  {
   "cell_type": "code",
   "execution_count": null,
   "id": "0af07c21",
   "metadata": {},
   "outputs": [],
   "source": []
  },
  {
   "cell_type": "code",
   "execution_count": null,
   "id": "3fb9acc3",
   "metadata": {},
   "outputs": [],
   "source": []
  },
  {
   "cell_type": "code",
   "execution_count": null,
   "id": "82bbc488",
   "metadata": {},
   "outputs": [],
   "source": []
  },
  {
   "cell_type": "code",
   "execution_count": null,
   "id": "889de0ea",
   "metadata": {},
   "outputs": [],
   "source": []
  },
  {
   "cell_type": "code",
   "execution_count": null,
   "id": "a6c28b2a",
   "metadata": {},
   "outputs": [],
   "source": []
  }
 ],
 "metadata": {
  "kernelspec": {
   "display_name": "Python 3 (ipykernel)",
   "language": "python",
   "name": "python3"
  },
  "language_info": {
   "codemirror_mode": {
    "name": "ipython",
    "version": 3
   },
   "file_extension": ".py",
   "mimetype": "text/x-python",
   "name": "python",
   "nbconvert_exporter": "python",
   "pygments_lexer": "ipython3",
   "version": "3.9.12"
  }
 },
 "nbformat": 4,
 "nbformat_minor": 5
}
